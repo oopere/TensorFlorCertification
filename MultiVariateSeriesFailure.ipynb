{
 "cells": [
  {
   "cell_type": "markdown",
   "id": "47199536",
   "metadata": {},
   "source": [
    "# Forecasting Series\n",
    "\n",
    "https://www.kaggle.com/datasets/veronicataipe/barcelona-atmosphere-data\n",
    "\n",
    "Sample how a bad choice in data leads to a bad model unable to predict. "
   ]
  },
  {
   "cell_type": "code",
   "execution_count": 1,
   "id": "7a40982c",
   "metadata": {},
   "outputs": [
    {
     "name": "stdout",
     "output_type": "stream",
     "text": [
      "2.9.0\n"
     ]
    }
   ],
   "source": [
    "#First steep is import the libraries. \n",
    "import tensorflow as tf\n",
    "tf.random.set_seed(42)\n",
    "from sklearn.model_selection import train_test_split\n",
    "#Numpy is a lybrary that allow us to work with arrays. \n",
    "import numpy as np\n",
    "#keras is an open source neural networks lybrary writted in python that run's in varios frameworks, TensorFlow included. \n",
    "from tensorflow import keras\n",
    "from tensorflow.keras.callbacks import ModelCheckpoint\n",
    "from tensorflow.keras.models import load_model\n",
    "from tensorflow.keras.metrics import RootMeanSquaredError\n",
    "import matplotlib.pyplot as plt\n",
    "import pandas as pd\n",
    "import csv\n",
    "\n",
    "\n",
    "from tensorflow.keras.preprocessing.text import Tokenizer\n",
    "from tensorflow.keras.preprocessing.sequence import pad_sequences\n",
    "from scipy.stats import linregress\n",
    "\n",
    "#Tranfer learning from tensorhub\n",
    "import tensorflow_hub as hub\n",
    "\n",
    "print (tf.__version__)\n",
    "\n",
    "gEpochs = 10\n",
    "WINDOW_SIZE = 5"
   ]
  },
  {
   "cell_type": "code",
   "execution_count": 2,
   "id": "7745d061",
   "metadata": {},
   "outputs": [],
   "source": [
    "# Get the data from the df. \n",
    "bcntmp = './Data/BCNtemp.csv'\n",
    "df = pd.read_csv(bcntmp)\n"
   ]
  },
  {
   "cell_type": "code",
   "execution_count": 3,
   "id": "c7eec840",
   "metadata": {},
   "outputs": [
    {
     "data": {
      "text/html": [
       "<div>\n",
       "<style scoped>\n",
       "    .dataframe tbody tr th:only-of-type {\n",
       "        vertical-align: middle;\n",
       "    }\n",
       "\n",
       "    .dataframe tbody tr th {\n",
       "        vertical-align: top;\n",
       "    }\n",
       "\n",
       "    .dataframe thead th {\n",
       "        text-align: right;\n",
       "    }\n",
       "</style>\n",
       "<table border=\"1\" class=\"dataframe\">\n",
       "  <thead>\n",
       "    <tr style=\"text-align: right;\">\n",
       "      <th></th>\n",
       "      <th>YEAR</th>\n",
       "      <th>MO</th>\n",
       "      <th>DY</th>\n",
       "      <th>HR</th>\n",
       "      <th>PS</th>\n",
       "      <th>T2M</th>\n",
       "    </tr>\n",
       "  </thead>\n",
       "  <tbody>\n",
       "    <tr>\n",
       "      <th>0</th>\n",
       "      <td>2001</td>\n",
       "      <td>1</td>\n",
       "      <td>1</td>\n",
       "      <td>0</td>\n",
       "      <td>97.95</td>\n",
       "      <td>3.49</td>\n",
       "    </tr>\n",
       "    <tr>\n",
       "      <th>1</th>\n",
       "      <td>2001</td>\n",
       "      <td>1</td>\n",
       "      <td>1</td>\n",
       "      <td>1</td>\n",
       "      <td>97.89</td>\n",
       "      <td>3.65</td>\n",
       "    </tr>\n",
       "    <tr>\n",
       "      <th>2</th>\n",
       "      <td>2001</td>\n",
       "      <td>1</td>\n",
       "      <td>1</td>\n",
       "      <td>2</td>\n",
       "      <td>97.82</td>\n",
       "      <td>3.41</td>\n",
       "    </tr>\n",
       "    <tr>\n",
       "      <th>3</th>\n",
       "      <td>2001</td>\n",
       "      <td>1</td>\n",
       "      <td>1</td>\n",
       "      <td>3</td>\n",
       "      <td>97.76</td>\n",
       "      <td>3.55</td>\n",
       "    </tr>\n",
       "    <tr>\n",
       "      <th>4</th>\n",
       "      <td>2001</td>\n",
       "      <td>1</td>\n",
       "      <td>1</td>\n",
       "      <td>4</td>\n",
       "      <td>97.71</td>\n",
       "      <td>3.92</td>\n",
       "    </tr>\n",
       "    <tr>\n",
       "      <th>...</th>\n",
       "      <td>...</td>\n",
       "      <td>...</td>\n",
       "      <td>...</td>\n",
       "      <td>...</td>\n",
       "      <td>...</td>\n",
       "      <td>...</td>\n",
       "    </tr>\n",
       "    <tr>\n",
       "      <th>184075</th>\n",
       "      <td>2021</td>\n",
       "      <td>12</td>\n",
       "      <td>31</td>\n",
       "      <td>19</td>\n",
       "      <td>99.14</td>\n",
       "      <td>12.30</td>\n",
       "    </tr>\n",
       "    <tr>\n",
       "      <th>184076</th>\n",
       "      <td>2021</td>\n",
       "      <td>12</td>\n",
       "      <td>31</td>\n",
       "      <td>20</td>\n",
       "      <td>99.15</td>\n",
       "      <td>12.08</td>\n",
       "    </tr>\n",
       "    <tr>\n",
       "      <th>184077</th>\n",
       "      <td>2021</td>\n",
       "      <td>12</td>\n",
       "      <td>31</td>\n",
       "      <td>21</td>\n",
       "      <td>99.15</td>\n",
       "      <td>11.65</td>\n",
       "    </tr>\n",
       "    <tr>\n",
       "      <th>184078</th>\n",
       "      <td>2021</td>\n",
       "      <td>12</td>\n",
       "      <td>31</td>\n",
       "      <td>22</td>\n",
       "      <td>99.14</td>\n",
       "      <td>11.52</td>\n",
       "    </tr>\n",
       "    <tr>\n",
       "      <th>184079</th>\n",
       "      <td>2021</td>\n",
       "      <td>12</td>\n",
       "      <td>31</td>\n",
       "      <td>23</td>\n",
       "      <td>99.13</td>\n",
       "      <td>11.51</td>\n",
       "    </tr>\n",
       "  </tbody>\n",
       "</table>\n",
       "<p>184080 rows × 6 columns</p>\n",
       "</div>"
      ],
      "text/plain": [
       "        YEAR  MO  DY  HR     PS    T2M\n",
       "0       2001   1   1   0  97.95   3.49\n",
       "1       2001   1   1   1  97.89   3.65\n",
       "2       2001   1   1   2  97.82   3.41\n",
       "3       2001   1   1   3  97.76   3.55\n",
       "4       2001   1   1   4  97.71   3.92\n",
       "...      ...  ..  ..  ..    ...    ...\n",
       "184075  2021  12  31  19  99.14  12.30\n",
       "184076  2021  12  31  20  99.15  12.08\n",
       "184077  2021  12  31  21  99.15  11.65\n",
       "184078  2021  12  31  22  99.14  11.52\n",
       "184079  2021  12  31  23  99.13  11.51\n",
       "\n",
       "[184080 rows x 6 columns]"
      ]
     },
     "execution_count": 3,
     "metadata": {},
     "output_type": "execute_result"
    }
   ],
   "source": [
    "# YEAR, MO, DY, HR, PS, T2M\n",
    "df_work = df[[\"YEAR\", \"MO\", \"DY\", \"HR\", \"PS\", \"T2M\"]]\n",
    "df_work"
   ]
  },
  {
   "cell_type": "code",
   "execution_count": 4,
   "id": "fec5ad7b",
   "metadata": {},
   "outputs": [
    {
     "data": {
      "text/plain": [
       "YEAR      int64\n",
       "MO        int64\n",
       "DY        int64\n",
       "HR        int64\n",
       "PS      float64\n",
       "T2M     float64\n",
       "dtype: object"
      ]
     },
     "execution_count": 4,
     "metadata": {},
     "output_type": "execute_result"
    }
   ],
   "source": [
    "df_work.dtypes"
   ]
  },
  {
   "cell_type": "code",
   "execution_count": 5,
   "id": "161e319e",
   "metadata": {},
   "outputs": [],
   "source": [
    "#Put the data in a X and y arrays\n",
    "#We get a number of datas to predict the next one. In case of a window_size of 5\n",
    "#The shape change to accept multivariate variables, the most important variable comes first. \n",
    "#First round x[[t0, ds0, ..., yc0] [t1, ds1, ..., yc1] ...[t4, ds4, ..., yc4]] y[t5][p5]\n",
    "#First round x[[t1, ds1, ..., yc1] [t2, ds2, ..., yc2] ...[t5, ds5, ..., yc5]] y[t6][p6]\n",
    "#.... till the end of serie. \n",
    "def df_xy_series(df, window_size=WINDOW_SIZE, label1=4, label2=5):\n",
    "    #Convert dataset to Numpy\n",
    "    df_as_np = df.to_numpy()\n",
    "    X=[]\n",
    "    y=[]\n",
    "    \n",
    "    for i in range(len(df_as_np)-window_size):\n",
    "        #ADDINg AN ENTIRE ROW\n",
    "        row = [r for r in df_as_np[i:i+window_size]]\n",
    "        X.append(row)\n",
    "        #add the 2 labels. \n",
    "        label = df_as_np[i+window_size][label1], df_as_np[i+window_size][label2]\n",
    "        y.append(label)\n",
    "    \n",
    "    return np.array(X), np.array(y)"
   ]
  },
  {
   "cell_type": "code",
   "execution_count": 6,
   "id": "c67022f7",
   "metadata": {},
   "outputs": [
    {
     "data": {
      "text/plain": [
       "((184075, 5, 6), (184075, 2))"
      ]
     },
     "execution_count": 6,
     "metadata": {},
     "output_type": "execute_result"
    }
   ],
   "source": [
    "X, y = df_xy_series(df_work)\n",
    "X.shape, y.shape"
   ]
  },
  {
   "cell_type": "code",
   "execution_count": 7,
   "id": "81207b8c",
   "metadata": {},
   "outputs": [
    {
     "data": {
      "text/plain": [
       "array([[2.001e+03, 1.000e+00, 1.000e+00, 0.000e+00, 9.795e+01, 3.490e+00],\n",
       "       [2.001e+03, 1.000e+00, 1.000e+00, 1.000e+00, 9.789e+01, 3.650e+00],\n",
       "       [2.001e+03, 1.000e+00, 1.000e+00, 2.000e+00, 9.782e+01, 3.410e+00],\n",
       "       [2.001e+03, 1.000e+00, 1.000e+00, 3.000e+00, 9.776e+01, 3.550e+00],\n",
       "       [2.001e+03, 1.000e+00, 1.000e+00, 4.000e+00, 9.771e+01, 3.920e+00]])"
      ]
     },
     "execution_count": 7,
     "metadata": {},
     "output_type": "execute_result"
    }
   ],
   "source": [
    "X[0]"
   ]
  },
  {
   "cell_type": "code",
   "execution_count": 8,
   "id": "4ba080a1",
   "metadata": {},
   "outputs": [
    {
     "data": {
      "text/plain": [
       "((150000, 5, 6), (34075, 5, 6), (150000, 2), (34075, 2))"
      ]
     },
     "execution_count": 8,
     "metadata": {},
     "output_type": "execute_result"
    }
   ],
   "source": [
    "#Split the data \n",
    "#X_train, X_val, y_train, y_val = train_test_split(X, y, test_size=0.33)\n",
    "#X_train.shape, X_val.shape, y_train.shape, y_val.shape \n",
    "\n",
    "X_train, y_train = X[:150000], y[:150000]\n",
    "X_val, y_val = X[150000:], y[150000:]\n",
    "X_train.shape, X_val.shape, y_train.shape, y_val.shape "
   ]
  },
  {
   "cell_type": "code",
   "execution_count": 9,
   "id": "64a8e341",
   "metadata": {},
   "outputs": [
    {
     "data": {
      "text/plain": [
       "array([[2.001e+03, 1.000e+00, 1.000e+00, 0.000e+00, 9.795e+01, 3.490e+00],\n",
       "       [2.001e+03, 1.000e+00, 1.000e+00, 1.000e+00, 9.789e+01, 3.650e+00],\n",
       "       [2.001e+03, 1.000e+00, 1.000e+00, 2.000e+00, 9.782e+01, 3.410e+00],\n",
       "       [2.001e+03, 1.000e+00, 1.000e+00, 3.000e+00, 9.776e+01, 3.550e+00],\n",
       "       [2.001e+03, 1.000e+00, 1.000e+00, 4.000e+00, 9.771e+01, 3.920e+00]])"
      ]
     },
     "execution_count": 9,
     "metadata": {},
     "output_type": "execute_result"
    }
   ],
   "source": [
    "X_train[0]"
   ]
  },
  {
   "cell_type": "code",
   "execution_count": 10,
   "id": "ab1f1bc3",
   "metadata": {},
   "outputs": [],
   "source": [
    "#Standarize the input training data\n",
    "def preprocess_X(X, cols=[0]):\n",
    "    for n in cols: \n",
    "        mean = np.mean(X[:, :, n])\n",
    "        std = np.std(X[:, :, n])\n",
    "        X[:, :, n] = (X[:, :, n] - mean) / std\n",
    "        print (\"trreating col X {n}\",  n)\n",
    "    return X\n",
    "        \n",
    "def preprocess_y(y, cols=[0]):\n",
    "    for n in cols: \n",
    "        mean = np.mean(y[ :, n])\n",
    "        std = np.std(y[:, n])\n",
    "        y[:, n] = (y[:, n] - mean) / std\n",
    "        print (\"treating col y {n}\",  n)\n",
    "    return y"
   ]
  },
  {
   "cell_type": "code",
   "execution_count": 11,
   "id": "8f0dfbd1",
   "metadata": {},
   "outputs": [],
   "source": [
    "\n",
    "#X_train = preprocess_X (X_train, cols=[0, 1, 2, 3, 5])\n"
   ]
  },
  {
   "cell_type": "code",
   "execution_count": 12,
   "id": "d778e5be",
   "metadata": {},
   "outputs": [
    {
     "data": {
      "text/plain": [
       "array([[2.001e+03, 1.000e+00, 1.000e+00, 0.000e+00, 9.795e+01, 3.490e+00],\n",
       "       [2.001e+03, 1.000e+00, 1.000e+00, 1.000e+00, 9.789e+01, 3.650e+00],\n",
       "       [2.001e+03, 1.000e+00, 1.000e+00, 2.000e+00, 9.782e+01, 3.410e+00],\n",
       "       [2.001e+03, 1.000e+00, 1.000e+00, 3.000e+00, 9.776e+01, 3.550e+00],\n",
       "       [2.001e+03, 1.000e+00, 1.000e+00, 4.000e+00, 9.771e+01, 3.920e+00]])"
      ]
     },
     "execution_count": 12,
     "metadata": {},
     "output_type": "execute_result"
    }
   ],
   "source": [
    "X_train[0]"
   ]
  },
  {
   "cell_type": "code",
   "execution_count": 13,
   "id": "10d7c9e3",
   "metadata": {},
   "outputs": [
    {
     "data": {
      "text/plain": [
       "array([97.69,  4.28])"
      ]
     },
     "execution_count": 13,
     "metadata": {},
     "output_type": "execute_result"
    }
   ],
   "source": [
    "y_train[0]"
   ]
  },
  {
   "cell_type": "code",
   "execution_count": 14,
   "id": "28856429",
   "metadata": {},
   "outputs": [],
   "source": [
    "#y_train = preprocess_y(y_train, [0, 1])"
   ]
  },
  {
   "cell_type": "code",
   "execution_count": 15,
   "id": "02aacb43",
   "metadata": {},
   "outputs": [
    {
     "data": {
      "text/plain": [
       "array([97.69,  4.28])"
      ]
     },
     "execution_count": 15,
     "metadata": {},
     "output_type": "execute_result"
    }
   ],
   "source": [
    "y_train[0]"
   ]
  },
  {
   "cell_type": "code",
   "execution_count": 16,
   "id": "ba6bde47",
   "metadata": {},
   "outputs": [],
   "source": [
    "# Define different models\n",
    "def get_model(kindmodel, varsInput = 1, window_size = WINDOW_SIZE):\n",
    "    switcher = {\n",
    "        #LSTM Bidirectionsl\n",
    "        12:tf.keras.models.Sequential([\n",
    "            tf.keras.layers.Conv1D(filters=64, kernel_size=3,\n",
    "                     strides=1,\n",
    "                     activation=\"relu\",\n",
    "                     padding='causal',\n",
    "                     input_shape=[window_size, varsInput]),\n",
    "            tf.keras.layers.LSTM(64, return_sequences=True),\n",
    "            tf.keras.layers.LSTM(64),\n",
    "            tf.keras.layers.Dense(8, activation=\"relu\"),\n",
    "            tf.keras.layers.Dense(4, activation=\"relu\"),\n",
    "            tf.keras.layers.Dense(2)]),\n",
    "        #convolutiona + Maxpooling\n",
    "        2:tf.keras.models.Sequential([\n",
    "            tf.keras.layers.Conv1D(filters=64, kernel_size=2,\n",
    "                     activation=\"relu\",\n",
    "                     input_shape=[window_size, varsInput]), \n",
    "            tf.keras.layers.MaxPooling1D(pool_size=2), \n",
    "            tf.keras.layers.Flatten(), \n",
    "            tf.keras.layers.Dense(8, activation='relu'), \n",
    "            tf.keras.layers.Dense(2)]), \n",
    "        #Input Layer LSTM\n",
    "        3:tf.keras.models.Sequential([\n",
    "            tf.keras.layers.InputLayer((window_size, varsInput)), \n",
    "            tf.keras.layers.LSTM(64), \n",
    "            tf.keras.layers.Dense(8, activation='relu'), \n",
    "            tf.keras.layers.Dense(2, activation=\"linear\")]), \n",
    "        4:tf.keras.models.Sequential([\n",
    "            tf.keras.layers.Conv1D(filters=64, kernel_size=3,\n",
    "                     strides=1,\n",
    "                     activation=\"relu\",\n",
    "                     padding='causal',\n",
    "                     input_shape=[window_size, varsInput]),\n",
    "            tf.keras.layers.Flatten(), \n",
    "            tf.keras.layers.Dense(8, activation=\"relu\"),\n",
    "            tf.keras.layers.Dense(2)]),\n",
    "    }\n",
    "    return switcher.get(kindmodel, None)"
   ]
  },
  {
   "cell_type": "code",
   "execution_count": 17,
   "id": "7dc4f3c8",
   "metadata": {},
   "outputs": [
    {
     "name": "stdout",
     "output_type": "stream",
     "text": [
      "Metal device set to: Apple M1 Pro\n"
     ]
    },
    {
     "name": "stderr",
     "output_type": "stream",
     "text": [
      "2022-08-08 00:05:02.966435: I tensorflow/core/common_runtime/pluggable_device/pluggable_device_factory.cc:305] Could not identify NUMA node of platform GPU ID 0, defaulting to 0. Your kernel may not have been built with NUMA support.\n",
      "2022-08-08 00:05:02.966542: I tensorflow/core/common_runtime/pluggable_device/pluggable_device_factory.cc:271] Created TensorFlow device (/job:localhost/replica:0/task:0/device:GPU:0 with 0 MB memory) -> physical PluggableDevice (device: 0, name: METAL, pci bus id: <undefined>)\n"
     ]
    },
    {
     "name": "stdout",
     "output_type": "stream",
     "text": [
      "Model: \"sequential_2\"\n",
      "_________________________________________________________________\n",
      " Layer (type)                Output Shape              Param #   \n",
      "=================================================================\n",
      " lstm_2 (LSTM)               (None, 64)                18176     \n",
      "                                                                 \n",
      " dense_5 (Dense)             (None, 8)                 520       \n",
      "                                                                 \n",
      " dense_6 (Dense)             (None, 2)                 18        \n",
      "                                                                 \n",
      "=================================================================\n",
      "Total params: 18,714\n",
      "Trainable params: 18,714\n",
      "Non-trainable params: 0\n",
      "_________________________________________________________________\n"
     ]
    },
    {
     "name": "stderr",
     "output_type": "stream",
     "text": [
      "2022-08-08 00:05:03.501647: W tensorflow/core/platform/profile_utils/cpu_utils.cc:128] Failed to get CPU frequency: 0 Hz\n"
     ]
    },
    {
     "name": "stdout",
     "output_type": "stream",
     "text": [
      "  44/4688 [..............................] - ETA: 11s "
     ]
    },
    {
     "name": "stderr",
     "output_type": "stream",
     "text": [
      "2022-08-08 00:05:03.726069: I tensorflow/core/grappler/optimizers/custom_graph_optimizer_registry.cc:113] Plugin optimizer for device_type GPU is enabled.\n",
      "2022-08-08 00:05:03.762398: I tensorflow/core/grappler/optimizers/custom_graph_optimizer_registry.cc:113] Plugin optimizer for device_type GPU is enabled.\n"
     ]
    },
    {
     "name": "stdout",
     "output_type": "stream",
     "text": [
      "4688/4688 [==============================] - 11s 2ms/step\n",
      "compatible! Congrats!\n"
     ]
    }
   ],
   "source": [
    "model12 = get_model(3, varsInput = 6)\n",
    "model12.summary()\n",
    "cp12 = ModelCheckpoint('model12/', save_best_only=True)\n",
    "try:\n",
    "    model12.predict(X_train)\n",
    "except:\n",
    "    print(\"Architecture and dataset incompatible\")\n",
    "else:\n",
    "    print(\"compatible! Congrats!\")"
   ]
  },
  {
   "cell_type": "code",
   "execution_count": 18,
   "id": "c2c9e7a4",
   "metadata": {},
   "outputs": [
    {
     "name": "stdout",
     "output_type": "stream",
     "text": [
      "Epoch 1/10\n"
     ]
    },
    {
     "name": "stderr",
     "output_type": "stream",
     "text": [
      "2022-08-08 00:05:16.214470: I tensorflow/core/grappler/optimizers/custom_graph_optimizer_registry.cc:113] Plugin optimizer for device_type GPU is enabled.\n",
      "2022-08-08 00:05:16.328201: I tensorflow/core/grappler/optimizers/custom_graph_optimizer_registry.cc:113] Plugin optimizer for device_type GPU is enabled.\n",
      "2022-08-08 00:05:16.410223: I tensorflow/core/grappler/optimizers/custom_graph_optimizer_registry.cc:113] Plugin optimizer for device_type GPU is enabled.\n"
     ]
    },
    {
     "name": "stdout",
     "output_type": "stream",
     "text": [
      "4688/4688 [==============================] - ETA: 0s - loss: 709.0131 - root_mean_squared_error: 26.6273"
     ]
    },
    {
     "name": "stderr",
     "output_type": "stream",
     "text": [
      "2022-08-08 00:05:52.752151: I tensorflow/core/grappler/optimizers/custom_graph_optimizer_registry.cc:113] Plugin optimizer for device_type GPU is enabled.\n",
      "2022-08-08 00:05:52.793214: I tensorflow/core/grappler/optimizers/custom_graph_optimizer_registry.cc:113] Plugin optimizer for device_type GPU is enabled.\n",
      "WARNING:absl:Found untraced functions such as lstm_cell_2_layer_call_fn, lstm_cell_2_layer_call_and_return_conditional_losses while saving (showing 2 of 2). These functions will not be directly callable after loading.\n"
     ]
    },
    {
     "name": "stdout",
     "output_type": "stream",
     "text": [
      "INFO:tensorflow:Assets written to: model12/assets\n"
     ]
    },
    {
     "name": "stderr",
     "output_type": "stream",
     "text": [
      "INFO:tensorflow:Assets written to: model12/assets\n"
     ]
    },
    {
     "name": "stdout",
     "output_type": "stream",
     "text": [
      "4688/4688 [==============================] - 44s 9ms/step - loss: 709.0131 - root_mean_squared_error: 26.6273 - val_loss: 26.4823 - val_root_mean_squared_error: 5.1461\n",
      "Epoch 2/10\n",
      "4686/4688 [============================>.] - ETA: 0s - loss: 29.0152 - root_mean_squared_error: 5.3866"
     ]
    },
    {
     "name": "stderr",
     "output_type": "stream",
     "text": [
      "WARNING:absl:Found untraced functions such as lstm_cell_2_layer_call_fn, lstm_cell_2_layer_call_and_return_conditional_losses while saving (showing 2 of 2). These functions will not be directly callable after loading.\n"
     ]
    },
    {
     "name": "stdout",
     "output_type": "stream",
     "text": [
      "INFO:tensorflow:Assets written to: model12/assets\n"
     ]
    },
    {
     "name": "stderr",
     "output_type": "stream",
     "text": [
      "INFO:tensorflow:Assets written to: model12/assets\n"
     ]
    },
    {
     "name": "stdout",
     "output_type": "stream",
     "text": [
      "4688/4688 [==============================] - 41s 9ms/step - loss: 29.0165 - root_mean_squared_error: 5.3867 - val_loss: 26.4712 - val_root_mean_squared_error: 5.1450\n",
      "Epoch 3/10\n",
      "4682/4688 [============================>.] - ETA: 0s - loss: 29.0193 - root_mean_squared_error: 5.3870"
     ]
    },
    {
     "name": "stderr",
     "output_type": "stream",
     "text": [
      "WARNING:absl:Found untraced functions such as lstm_cell_2_layer_call_fn, lstm_cell_2_layer_call_and_return_conditional_losses while saving (showing 2 of 2). These functions will not be directly callable after loading.\n"
     ]
    },
    {
     "name": "stdout",
     "output_type": "stream",
     "text": [
      "INFO:tensorflow:Assets written to: model12/assets\n"
     ]
    },
    {
     "name": "stderr",
     "output_type": "stream",
     "text": [
      "INFO:tensorflow:Assets written to: model12/assets\n"
     ]
    },
    {
     "name": "stdout",
     "output_type": "stream",
     "text": [
      "4688/4688 [==============================] - 41s 9ms/step - loss: 29.0180 - root_mean_squared_error: 5.3868 - val_loss: 26.3831 - val_root_mean_squared_error: 5.1365\n",
      "Epoch 4/10\n",
      "4688/4688 [==============================] - 37s 8ms/step - loss: 29.0175 - root_mean_squared_error: 5.3868 - val_loss: 26.4501 - val_root_mean_squared_error: 5.1430\n",
      "Epoch 5/10\n",
      "4688/4688 [==============================] - 38s 8ms/step - loss: 29.0226 - root_mean_squared_error: 5.3873 - val_loss: 26.4332 - val_root_mean_squared_error: 5.1413\n",
      "Epoch 6/10\n",
      "4688/4688 [==============================] - 38s 8ms/step - loss: 29.0219 - root_mean_squared_error: 5.3872 - val_loss: 26.7179 - val_root_mean_squared_error: 5.1689\n",
      "Epoch 7/10\n",
      "4688/4688 [==============================] - 38s 8ms/step - loss: 29.0192 - root_mean_squared_error: 5.3870 - val_loss: 26.4867 - val_root_mean_squared_error: 5.1465\n",
      "Epoch 8/10\n",
      "4688/4688 [==============================] - 38s 8ms/step - loss: 29.0185 - root_mean_squared_error: 5.3869 - val_loss: 26.6063 - val_root_mean_squared_error: 5.1581\n",
      "Epoch 9/10\n",
      "4686/4688 [============================>.] - ETA: 0s - loss: 29.0158 - root_mean_squared_error: 5.3866"
     ]
    },
    {
     "name": "stderr",
     "output_type": "stream",
     "text": [
      "WARNING:absl:Found untraced functions such as lstm_cell_2_layer_call_fn, lstm_cell_2_layer_call_and_return_conditional_losses while saving (showing 2 of 2). These functions will not be directly callable after loading.\n"
     ]
    },
    {
     "name": "stdout",
     "output_type": "stream",
     "text": [
      "INFO:tensorflow:Assets written to: model12/assets\n"
     ]
    },
    {
     "name": "stderr",
     "output_type": "stream",
     "text": [
      "INFO:tensorflow:Assets written to: model12/assets\n"
     ]
    },
    {
     "name": "stdout",
     "output_type": "stream",
     "text": [
      "4688/4688 [==============================] - 41s 9ms/step - loss: 29.0150 - root_mean_squared_error: 5.3866 - val_loss: 26.3819 - val_root_mean_squared_error: 5.1363\n",
      "Epoch 10/10\n",
      "4688/4688 [==============================] - 37s 8ms/step - loss: 29.0218 - root_mean_squared_error: 5.3872 - val_loss: 26.4362 - val_root_mean_squared_error: 5.1416\n"
     ]
    },
    {
     "data": {
      "text/plain": [
       "<keras.callbacks.History at 0x2920e9a00>"
      ]
     },
     "execution_count": 18,
     "metadata": {},
     "output_type": "execute_result"
    }
   ],
   "source": [
    "model12.compile(loss=tf.keras.losses.MeanSquaredError(), optimizer=\"Adam\", metrics=[RootMeanSquaredError()])\n",
    "model12.fit(X_train, y_train, validation_data=(X_val, y_val), epochs=gEpochs, callbacks=[cp12])"
   ]
  },
  {
   "cell_type": "code",
   "execution_count": 21,
   "id": "a76b5fec",
   "metadata": {},
   "outputs": [],
   "source": [
    "def get_predictions(model, X, y):\n",
    "    predictions=model.predict(X)\n",
    "    \n",
    "    p_preds, temp_preds = predictions[:, 0], predictions[:, 1]\n",
    "    p_actuals, temp_actuals = y[:, 0], y[:, 1]\n",
    "    results = pd.DataFrame(data={'Temperature Predictions': temp_preds,\n",
    "                            'Temperature Actuals':temp_actuals,\n",
    "                            'Pressure Predictions': p_preds,\n",
    "                            'Pressure Actuals': p_actuals\n",
    "                            })\n",
    "    return predictions, results\n"
   ]
  },
  {
   "cell_type": "code",
   "execution_count": 22,
   "id": "2e9c1c95",
   "metadata": {},
   "outputs": [
    {
     "name": "stdout",
     "output_type": "stream",
     "text": [
      "1065/1065 [==============================] - 3s 2ms/step\n"
     ]
    },
    {
     "data": {
      "text/html": [
       "<div>\n",
       "<style scoped>\n",
       "    .dataframe tbody tr th:only-of-type {\n",
       "        vertical-align: middle;\n",
       "    }\n",
       "\n",
       "    .dataframe tbody tr th {\n",
       "        vertical-align: top;\n",
       "    }\n",
       "\n",
       "    .dataframe thead th {\n",
       "        text-align: right;\n",
       "    }\n",
       "</style>\n",
       "<table border=\"1\" class=\"dataframe\">\n",
       "  <thead>\n",
       "    <tr style=\"text-align: right;\">\n",
       "      <th></th>\n",
       "      <th>Temperature Predictions</th>\n",
       "      <th>Temperature Actuals</th>\n",
       "      <th>Pressure Predictions</th>\n",
       "      <th>Pressure Actuals</th>\n",
       "    </tr>\n",
       "  </thead>\n",
       "  <tbody>\n",
       "    <tr>\n",
       "      <th>0</th>\n",
       "      <td>15.634737</td>\n",
       "      <td>3.05</td>\n",
       "      <td>98.17482</td>\n",
       "      <td>98.09</td>\n",
       "    </tr>\n",
       "    <tr>\n",
       "      <th>1</th>\n",
       "      <td>15.634737</td>\n",
       "      <td>2.94</td>\n",
       "      <td>98.17482</td>\n",
       "      <td>98.10</td>\n",
       "    </tr>\n",
       "    <tr>\n",
       "      <th>2</th>\n",
       "      <td>15.634737</td>\n",
       "      <td>3.63</td>\n",
       "      <td>98.17482</td>\n",
       "      <td>98.11</td>\n",
       "    </tr>\n",
       "    <tr>\n",
       "      <th>3</th>\n",
       "      <td>15.634737</td>\n",
       "      <td>5.87</td>\n",
       "      <td>98.17482</td>\n",
       "      <td>98.10</td>\n",
       "    </tr>\n",
       "    <tr>\n",
       "      <th>4</th>\n",
       "      <td>15.634737</td>\n",
       "      <td>7.76</td>\n",
       "      <td>98.17482</td>\n",
       "      <td>98.09</td>\n",
       "    </tr>\n",
       "    <tr>\n",
       "      <th>...</th>\n",
       "      <td>...</td>\n",
       "      <td>...</td>\n",
       "      <td>...</td>\n",
       "      <td>...</td>\n",
       "    </tr>\n",
       "    <tr>\n",
       "      <th>34070</th>\n",
       "      <td>15.634737</td>\n",
       "      <td>12.30</td>\n",
       "      <td>98.17482</td>\n",
       "      <td>99.14</td>\n",
       "    </tr>\n",
       "    <tr>\n",
       "      <th>34071</th>\n",
       "      <td>15.634737</td>\n",
       "      <td>12.08</td>\n",
       "      <td>98.17482</td>\n",
       "      <td>99.15</td>\n",
       "    </tr>\n",
       "    <tr>\n",
       "      <th>34072</th>\n",
       "      <td>15.634737</td>\n",
       "      <td>11.65</td>\n",
       "      <td>98.17482</td>\n",
       "      <td>99.15</td>\n",
       "    </tr>\n",
       "    <tr>\n",
       "      <th>34073</th>\n",
       "      <td>15.634737</td>\n",
       "      <td>11.52</td>\n",
       "      <td>98.17482</td>\n",
       "      <td>99.14</td>\n",
       "    </tr>\n",
       "    <tr>\n",
       "      <th>34074</th>\n",
       "      <td>15.634737</td>\n",
       "      <td>11.51</td>\n",
       "      <td>98.17482</td>\n",
       "      <td>99.13</td>\n",
       "    </tr>\n",
       "  </tbody>\n",
       "</table>\n",
       "<p>34075 rows × 4 columns</p>\n",
       "</div>"
      ],
      "text/plain": [
       "       Temperature Predictions  Temperature Actuals  Pressure Predictions  \\\n",
       "0                    15.634737                 3.05              98.17482   \n",
       "1                    15.634737                 2.94              98.17482   \n",
       "2                    15.634737                 3.63              98.17482   \n",
       "3                    15.634737                 5.87              98.17482   \n",
       "4                    15.634737                 7.76              98.17482   \n",
       "...                        ...                  ...                   ...   \n",
       "34070                15.634737                12.30              98.17482   \n",
       "34071                15.634737                12.08              98.17482   \n",
       "34072                15.634737                11.65              98.17482   \n",
       "34073                15.634737                11.52              98.17482   \n",
       "34074                15.634737                11.51              98.17482   \n",
       "\n",
       "       Pressure Actuals  \n",
       "0                 98.09  \n",
       "1                 98.10  \n",
       "2                 98.11  \n",
       "3                 98.10  \n",
       "4                 98.09  \n",
       "...                 ...  \n",
       "34070             99.14  \n",
       "34071             99.15  \n",
       "34072             99.15  \n",
       "34073             99.14  \n",
       "34074             99.13  \n",
       "\n",
       "[34075 rows x 4 columns]"
      ]
     },
     "execution_count": 22,
     "metadata": {},
     "output_type": "execute_result"
    }
   ],
   "source": [
    "train_predictions, train_results= get_predictions(\n",
    "    model12, X_val, y_val)\n",
    "train_results"
   ]
  },
  {
   "cell_type": "code",
   "execution_count": null,
   "id": "b5ce569a",
   "metadata": {},
   "outputs": [],
   "source": []
  },
  {
   "cell_type": "code",
   "execution_count": null,
   "id": "8a59b03b",
   "metadata": {},
   "outputs": [],
   "source": []
  },
  {
   "cell_type": "code",
   "execution_count": null,
   "id": "7e363839",
   "metadata": {},
   "outputs": [],
   "source": []
  }
 ],
 "metadata": {
  "kernelspec": {
   "display_name": "Python 3 (ipykernel)",
   "language": "python",
   "name": "python3"
  },
  "language_info": {
   "codemirror_mode": {
    "name": "ipython",
    "version": 3
   },
   "file_extension": ".py",
   "mimetype": "text/x-python",
   "name": "python",
   "nbconvert_exporter": "python",
   "pygments_lexer": "ipython3",
   "version": "3.8.13"
  }
 },
 "nbformat": 4,
 "nbformat_minor": 5
}
