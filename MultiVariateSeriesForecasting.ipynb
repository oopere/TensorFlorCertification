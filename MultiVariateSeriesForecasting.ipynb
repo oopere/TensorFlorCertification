{
 "cells": [
  {
   "cell_type": "markdown",
   "id": "d4040edf",
   "metadata": {},
   "source": [
    "# Forecasting Series\n",
    "\n",
    "https://www.kaggle.com/datasets/veronicataipe/barcelona-atmosphere-data"
   ]
  },
  {
   "cell_type": "code",
   "execution_count": 5,
   "id": "bf7cff52",
   "metadata": {},
   "outputs": [
    {
     "name": "stdout",
     "output_type": "stream",
     "text": [
      "2.9.0\n"
     ]
    }
   ],
   "source": [
    "#First steep is import the libraries. \n",
    "import tensorflow as tf\n",
    "tf.random.set_seed(42)\n",
    "from sklearn.model_selection import train_test_split\n",
    "#Numpy is a lybrary that allow us to work with arrays. \n",
    "import numpy as np\n",
    "#keras is an open source neural networks lybrary writted in python that run's in varios frameworks, TensorFlow included. \n",
    "from tensorflow import keras\n",
    "from tensorflow.keras.callbacks import ModelCheckpoint\n",
    "from tensorflow.keras.models import load_model\n",
    "from tensorflow.keras.metrics import RootMeanSquaredError\n",
    "import matplotlib.pyplot as plt\n",
    "import pandas as pd\n",
    "import csv\n",
    "\n",
    "\n",
    "from tensorflow.keras.preprocessing.text import Tokenizer\n",
    "from tensorflow.keras.preprocessing.sequence import pad_sequences\n",
    "from scipy.stats import linregress\n",
    "\n",
    "#Tranfer learning from tensorhub\n",
    "import tensorflow_hub as hub\n",
    "\n",
    "print (tf.__version__)\n",
    "\n",
    "gEpochs = 10\n",
    "WINDOW_SIZE = 5"
   ]
  },
  {
   "cell_type": "code",
   "execution_count": 26,
   "id": "e42befb9",
   "metadata": {},
   "outputs": [],
   "source": [
    "# Get the data from the df. \n",
    "bcntmp = './Data/BCNtemp.csv'\n",
    "df = pd.read_csv(bcntmp)\n"
   ]
  },
  {
   "cell_type": "code",
   "execution_count": 27,
   "id": "a790b558",
   "metadata": {},
   "outputs": [
    {
     "data": {
      "text/html": [
       "<div>\n",
       "<style scoped>\n",
       "    .dataframe tbody tr th:only-of-type {\n",
       "        vertical-align: middle;\n",
       "    }\n",
       "\n",
       "    .dataframe tbody tr th {\n",
       "        vertical-align: top;\n",
       "    }\n",
       "\n",
       "    .dataframe thead th {\n",
       "        text-align: right;\n",
       "    }\n",
       "</style>\n",
       "<table border=\"1\" class=\"dataframe\">\n",
       "  <thead>\n",
       "    <tr style=\"text-align: right;\">\n",
       "      <th></th>\n",
       "      <th>YEAR</th>\n",
       "      <th>MO</th>\n",
       "      <th>DY</th>\n",
       "      <th>HR</th>\n",
       "      <th>PS</th>\n",
       "      <th>T2M</th>\n",
       "    </tr>\n",
       "  </thead>\n",
       "  <tbody>\n",
       "    <tr>\n",
       "      <th>0</th>\n",
       "      <td>2001</td>\n",
       "      <td>1</td>\n",
       "      <td>1</td>\n",
       "      <td>0</td>\n",
       "      <td>97.95</td>\n",
       "      <td>3.49</td>\n",
       "    </tr>\n",
       "    <tr>\n",
       "      <th>1</th>\n",
       "      <td>2001</td>\n",
       "      <td>1</td>\n",
       "      <td>1</td>\n",
       "      <td>1</td>\n",
       "      <td>97.89</td>\n",
       "      <td>3.65</td>\n",
       "    </tr>\n",
       "    <tr>\n",
       "      <th>2</th>\n",
       "      <td>2001</td>\n",
       "      <td>1</td>\n",
       "      <td>1</td>\n",
       "      <td>2</td>\n",
       "      <td>97.82</td>\n",
       "      <td>3.41</td>\n",
       "    </tr>\n",
       "    <tr>\n",
       "      <th>3</th>\n",
       "      <td>2001</td>\n",
       "      <td>1</td>\n",
       "      <td>1</td>\n",
       "      <td>3</td>\n",
       "      <td>97.76</td>\n",
       "      <td>3.55</td>\n",
       "    </tr>\n",
       "    <tr>\n",
       "      <th>4</th>\n",
       "      <td>2001</td>\n",
       "      <td>1</td>\n",
       "      <td>1</td>\n",
       "      <td>4</td>\n",
       "      <td>97.71</td>\n",
       "      <td>3.92</td>\n",
       "    </tr>\n",
       "    <tr>\n",
       "      <th>...</th>\n",
       "      <td>...</td>\n",
       "      <td>...</td>\n",
       "      <td>...</td>\n",
       "      <td>...</td>\n",
       "      <td>...</td>\n",
       "      <td>...</td>\n",
       "    </tr>\n",
       "    <tr>\n",
       "      <th>184075</th>\n",
       "      <td>2021</td>\n",
       "      <td>12</td>\n",
       "      <td>31</td>\n",
       "      <td>19</td>\n",
       "      <td>99.14</td>\n",
       "      <td>12.30</td>\n",
       "    </tr>\n",
       "    <tr>\n",
       "      <th>184076</th>\n",
       "      <td>2021</td>\n",
       "      <td>12</td>\n",
       "      <td>31</td>\n",
       "      <td>20</td>\n",
       "      <td>99.15</td>\n",
       "      <td>12.08</td>\n",
       "    </tr>\n",
       "    <tr>\n",
       "      <th>184077</th>\n",
       "      <td>2021</td>\n",
       "      <td>12</td>\n",
       "      <td>31</td>\n",
       "      <td>21</td>\n",
       "      <td>99.15</td>\n",
       "      <td>11.65</td>\n",
       "    </tr>\n",
       "    <tr>\n",
       "      <th>184078</th>\n",
       "      <td>2021</td>\n",
       "      <td>12</td>\n",
       "      <td>31</td>\n",
       "      <td>22</td>\n",
       "      <td>99.14</td>\n",
       "      <td>11.52</td>\n",
       "    </tr>\n",
       "    <tr>\n",
       "      <th>184079</th>\n",
       "      <td>2021</td>\n",
       "      <td>12</td>\n",
       "      <td>31</td>\n",
       "      <td>23</td>\n",
       "      <td>99.13</td>\n",
       "      <td>11.51</td>\n",
       "    </tr>\n",
       "  </tbody>\n",
       "</table>\n",
       "<p>184080 rows × 6 columns</p>\n",
       "</div>"
      ],
      "text/plain": [
       "        YEAR  MO  DY  HR     PS    T2M\n",
       "0       2001   1   1   0  97.95   3.49\n",
       "1       2001   1   1   1  97.89   3.65\n",
       "2       2001   1   1   2  97.82   3.41\n",
       "3       2001   1   1   3  97.76   3.55\n",
       "4       2001   1   1   4  97.71   3.92\n",
       "...      ...  ..  ..  ..    ...    ...\n",
       "184075  2021  12  31  19  99.14  12.30\n",
       "184076  2021  12  31  20  99.15  12.08\n",
       "184077  2021  12  31  21  99.15  11.65\n",
       "184078  2021  12  31  22  99.14  11.52\n",
       "184079  2021  12  31  23  99.13  11.51\n",
       "\n",
       "[184080 rows x 6 columns]"
      ]
     },
     "execution_count": 27,
     "metadata": {},
     "output_type": "execute_result"
    }
   ],
   "source": [
    "# YEAR, MO, DY, HR, PS, T2M\n",
    "df_work = df[[\"YEAR\", \"MO\", \"DY\", \"HR\", \"PS\", \"T2M\"]]\n",
    "df_work"
   ]
  },
  {
   "cell_type": "code",
   "execution_count": 28,
   "id": "452d94db",
   "metadata": {},
   "outputs": [
    {
     "data": {
      "text/plain": [
       "YEAR      int64\n",
       "MO        int64\n",
       "DY        int64\n",
       "HR        int64\n",
       "PS      float64\n",
       "T2M     float64\n",
       "dtype: object"
      ]
     },
     "execution_count": 28,
     "metadata": {},
     "output_type": "execute_result"
    }
   ],
   "source": [
    "df_work.dtypes"
   ]
  },
  {
   "cell_type": "markdown",
   "id": "20630762",
   "metadata": {},
   "source": [
    "## Create Datetime in seconds"
   ]
  },
  {
   "cell_type": "code",
   "execution_count": 29,
   "id": "b274b50b",
   "metadata": {},
   "outputs": [
    {
     "name": "stderr",
     "output_type": "stream",
     "text": [
      "/var/folders/2_/2936w91502s198v13fcwhz9w0000gn/T/ipykernel_10096/1348947142.py:1: SettingWithCopyWarning: \n",
      "A value is trying to be set on a copy of a slice from a DataFrame.\n",
      "Try using .loc[row_indexer,col_indexer] = value instead\n",
      "\n",
      "See the caveats in the documentation: https://pandas.pydata.org/pandas-docs/stable/user_guide/indexing.html#returning-a-view-versus-a-copy\n",
      "  df_work[\"DateTime\"] = df_work[\"YEAR\"].apply(str) +\"-\"+ df_work[\"MO\"].apply(str) +\"-\"+ df_work[\"DY\"].apply(str) +\" \"+ df_work[\"HR\"].apply(str)+\":0:0\"\n"
     ]
    }
   ],
   "source": [
    "df_work[\"DateTime\"] = df_work[\"YEAR\"].apply(str) +\"-\"+ df_work[\"MO\"].apply(str) +\"-\"+ df_work[\"DY\"].apply(str) +\" \"+ df_work[\"HR\"].apply(str)+\":0:0\""
   ]
  },
  {
   "cell_type": "code",
   "execution_count": 30,
   "id": "37963009",
   "metadata": {},
   "outputs": [
    {
     "data": {
      "text/html": [
       "<div>\n",
       "<style scoped>\n",
       "    .dataframe tbody tr th:only-of-type {\n",
       "        vertical-align: middle;\n",
       "    }\n",
       "\n",
       "    .dataframe tbody tr th {\n",
       "        vertical-align: top;\n",
       "    }\n",
       "\n",
       "    .dataframe thead th {\n",
       "        text-align: right;\n",
       "    }\n",
       "</style>\n",
       "<table border=\"1\" class=\"dataframe\">\n",
       "  <thead>\n",
       "    <tr style=\"text-align: right;\">\n",
       "      <th></th>\n",
       "      <th>YEAR</th>\n",
       "      <th>MO</th>\n",
       "      <th>DY</th>\n",
       "      <th>HR</th>\n",
       "      <th>PS</th>\n",
       "      <th>T2M</th>\n",
       "      <th>DateTime</th>\n",
       "    </tr>\n",
       "  </thead>\n",
       "  <tbody>\n",
       "    <tr>\n",
       "      <th>0</th>\n",
       "      <td>2001</td>\n",
       "      <td>1</td>\n",
       "      <td>1</td>\n",
       "      <td>0</td>\n",
       "      <td>97.95</td>\n",
       "      <td>3.49</td>\n",
       "      <td>2001-1-1 0:0:0</td>\n",
       "    </tr>\n",
       "    <tr>\n",
       "      <th>1</th>\n",
       "      <td>2001</td>\n",
       "      <td>1</td>\n",
       "      <td>1</td>\n",
       "      <td>1</td>\n",
       "      <td>97.89</td>\n",
       "      <td>3.65</td>\n",
       "      <td>2001-1-1 1:0:0</td>\n",
       "    </tr>\n",
       "    <tr>\n",
       "      <th>2</th>\n",
       "      <td>2001</td>\n",
       "      <td>1</td>\n",
       "      <td>1</td>\n",
       "      <td>2</td>\n",
       "      <td>97.82</td>\n",
       "      <td>3.41</td>\n",
       "      <td>2001-1-1 2:0:0</td>\n",
       "    </tr>\n",
       "    <tr>\n",
       "      <th>3</th>\n",
       "      <td>2001</td>\n",
       "      <td>1</td>\n",
       "      <td>1</td>\n",
       "      <td>3</td>\n",
       "      <td>97.76</td>\n",
       "      <td>3.55</td>\n",
       "      <td>2001-1-1 3:0:0</td>\n",
       "    </tr>\n",
       "    <tr>\n",
       "      <th>4</th>\n",
       "      <td>2001</td>\n",
       "      <td>1</td>\n",
       "      <td>1</td>\n",
       "      <td>4</td>\n",
       "      <td>97.71</td>\n",
       "      <td>3.92</td>\n",
       "      <td>2001-1-1 4:0:0</td>\n",
       "    </tr>\n",
       "  </tbody>\n",
       "</table>\n",
       "</div>"
      ],
      "text/plain": [
       "   YEAR  MO  DY  HR     PS   T2M        DateTime\n",
       "0  2001   1   1   0  97.95  3.49  2001-1-1 0:0:0\n",
       "1  2001   1   1   1  97.89  3.65  2001-1-1 1:0:0\n",
       "2  2001   1   1   2  97.82  3.41  2001-1-1 2:0:0\n",
       "3  2001   1   1   3  97.76  3.55  2001-1-1 3:0:0\n",
       "4  2001   1   1   4  97.71  3.92  2001-1-1 4:0:0"
      ]
     },
     "execution_count": 30,
     "metadata": {},
     "output_type": "execute_result"
    }
   ],
   "source": [
    "df_work.head()"
   ]
  },
  {
   "cell_type": "code",
   "execution_count": 31,
   "id": "8be71f0b",
   "metadata": {},
   "outputs": [
    {
     "data": {
      "text/html": [
       "<div>\n",
       "<style scoped>\n",
       "    .dataframe tbody tr th:only-of-type {\n",
       "        vertical-align: middle;\n",
       "    }\n",
       "\n",
       "    .dataframe tbody tr th {\n",
       "        vertical-align: top;\n",
       "    }\n",
       "\n",
       "    .dataframe thead th {\n",
       "        text-align: right;\n",
       "    }\n",
       "</style>\n",
       "<table border=\"1\" class=\"dataframe\">\n",
       "  <thead>\n",
       "    <tr style=\"text-align: right;\">\n",
       "      <th></th>\n",
       "      <th>YEAR</th>\n",
       "      <th>MO</th>\n",
       "      <th>DY</th>\n",
       "      <th>HR</th>\n",
       "      <th>PS</th>\n",
       "      <th>T2M</th>\n",
       "      <th>DateTime</th>\n",
       "    </tr>\n",
       "    <tr>\n",
       "      <th>DateTime</th>\n",
       "      <th></th>\n",
       "      <th></th>\n",
       "      <th></th>\n",
       "      <th></th>\n",
       "      <th></th>\n",
       "      <th></th>\n",
       "      <th></th>\n",
       "    </tr>\n",
       "  </thead>\n",
       "  <tbody>\n",
       "    <tr>\n",
       "      <th>2001-01-01 00:00:00</th>\n",
       "      <td>2001</td>\n",
       "      <td>1</td>\n",
       "      <td>1</td>\n",
       "      <td>0</td>\n",
       "      <td>97.95</td>\n",
       "      <td>3.49</td>\n",
       "      <td>2001-1-1 0:0:0</td>\n",
       "    </tr>\n",
       "    <tr>\n",
       "      <th>2001-01-01 01:00:00</th>\n",
       "      <td>2001</td>\n",
       "      <td>1</td>\n",
       "      <td>1</td>\n",
       "      <td>1</td>\n",
       "      <td>97.89</td>\n",
       "      <td>3.65</td>\n",
       "      <td>2001-1-1 1:0:0</td>\n",
       "    </tr>\n",
       "    <tr>\n",
       "      <th>2001-01-01 02:00:00</th>\n",
       "      <td>2001</td>\n",
       "      <td>1</td>\n",
       "      <td>1</td>\n",
       "      <td>2</td>\n",
       "      <td>97.82</td>\n",
       "      <td>3.41</td>\n",
       "      <td>2001-1-1 2:0:0</td>\n",
       "    </tr>\n",
       "    <tr>\n",
       "      <th>2001-01-01 03:00:00</th>\n",
       "      <td>2001</td>\n",
       "      <td>1</td>\n",
       "      <td>1</td>\n",
       "      <td>3</td>\n",
       "      <td>97.76</td>\n",
       "      <td>3.55</td>\n",
       "      <td>2001-1-1 3:0:0</td>\n",
       "    </tr>\n",
       "    <tr>\n",
       "      <th>2001-01-01 04:00:00</th>\n",
       "      <td>2001</td>\n",
       "      <td>1</td>\n",
       "      <td>1</td>\n",
       "      <td>4</td>\n",
       "      <td>97.71</td>\n",
       "      <td>3.92</td>\n",
       "      <td>2001-1-1 4:0:0</td>\n",
       "    </tr>\n",
       "    <tr>\n",
       "      <th>2001-01-01 05:00:00</th>\n",
       "      <td>2001</td>\n",
       "      <td>1</td>\n",
       "      <td>1</td>\n",
       "      <td>5</td>\n",
       "      <td>97.69</td>\n",
       "      <td>4.28</td>\n",
       "      <td>2001-1-1 5:0:0</td>\n",
       "    </tr>\n",
       "  </tbody>\n",
       "</table>\n",
       "</div>"
      ],
      "text/plain": [
       "                     YEAR  MO  DY  HR     PS   T2M        DateTime\n",
       "DateTime                                                          \n",
       "2001-01-01 00:00:00  2001   1   1   0  97.95  3.49  2001-1-1 0:0:0\n",
       "2001-01-01 01:00:00  2001   1   1   1  97.89  3.65  2001-1-1 1:0:0\n",
       "2001-01-01 02:00:00  2001   1   1   2  97.82  3.41  2001-1-1 2:0:0\n",
       "2001-01-01 03:00:00  2001   1   1   3  97.76  3.55  2001-1-1 3:0:0\n",
       "2001-01-01 04:00:00  2001   1   1   4  97.71  3.92  2001-1-1 4:0:0\n",
       "2001-01-01 05:00:00  2001   1   1   5  97.69  4.28  2001-1-1 5:0:0"
      ]
     },
     "execution_count": 31,
     "metadata": {},
     "output_type": "execute_result"
    }
   ],
   "source": [
    "df_work.index = pd.to_datetime(df_work[\"DateTime\"], format=\"%Y-%m-%d %H\")\n",
    "df_work[:6]"
   ]
  },
  {
   "cell_type": "markdown",
   "id": "e6611bfd",
   "metadata": {},
   "source": [
    "## Interpreting Day and Year cycles\n",
    "The temperature has two clear cycles, one is in the day ant the other in year. We are going to use the sin & cos seconds in the and in year to help interpret how this cycles affect to the forecasting."
   ]
  },
  {
   "cell_type": "code",
   "execution_count": 32,
   "id": "468a1bb2",
   "metadata": {},
   "outputs": [
    {
     "name": "stderr",
     "output_type": "stream",
     "text": [
      "/var/folders/2_/2936w91502s198v13fcwhz9w0000gn/T/ipykernel_10096/3285392409.py:1: SettingWithCopyWarning: \n",
      "A value is trying to be set on a copy of a slice from a DataFrame.\n",
      "Try using .loc[row_indexer,col_indexer] = value instead\n",
      "\n",
      "See the caveats in the documentation: https://pandas.pydata.org/pandas-docs/stable/user_guide/indexing.html#returning-a-view-versus-a-copy\n",
      "  df_work['Seconds'] = temp_df.index.map(pd.Timestamp.timestamp)\n"
     ]
    }
   ],
   "source": [
    "\n",
    "df_work['Seconds'] = temp_df.index.map(pd.Timestamp.timestamp)"
   ]
  },
  {
   "cell_type": "code",
   "execution_count": 42,
   "id": "505c1f70",
   "metadata": {},
   "outputs": [
    {
     "data": {
      "text/html": [
       "<div>\n",
       "<style scoped>\n",
       "    .dataframe tbody tr th:only-of-type {\n",
       "        vertical-align: middle;\n",
       "    }\n",
       "\n",
       "    .dataframe tbody tr th {\n",
       "        vertical-align: top;\n",
       "    }\n",
       "\n",
       "    .dataframe thead th {\n",
       "        text-align: right;\n",
       "    }\n",
       "</style>\n",
       "<table border=\"1\" class=\"dataframe\">\n",
       "  <thead>\n",
       "    <tr style=\"text-align: right;\">\n",
       "      <th></th>\n",
       "      <th>PS</th>\n",
       "      <th>T2M</th>\n",
       "      <th>Seconds</th>\n",
       "      <th>Day sin</th>\n",
       "      <th>Day cos</th>\n",
       "      <th>Year sin</th>\n",
       "      <th>Year cos</th>\n",
       "    </tr>\n",
       "    <tr>\n",
       "      <th>DateTime</th>\n",
       "      <th></th>\n",
       "      <th></th>\n",
       "      <th></th>\n",
       "      <th></th>\n",
       "      <th></th>\n",
       "      <th></th>\n",
       "      <th></th>\n",
       "    </tr>\n",
       "  </thead>\n",
       "  <tbody>\n",
       "    <tr>\n",
       "      <th>2008-12-31 16:00:00</th>\n",
       "      <td>98.70</td>\n",
       "      <td>9.65</td>\n",
       "      <td>1.230739e+09</td>\n",
       "      <td>-8.660254e-01</td>\n",
       "      <td>-5.000000e-01</td>\n",
       "      <td>0.003598</td>\n",
       "      <td>0.999994</td>\n",
       "    </tr>\n",
       "    <tr>\n",
       "      <th>2008-12-31 17:00:00</th>\n",
       "      <td>98.71</td>\n",
       "      <td>9.38</td>\n",
       "      <td>1.230743e+09</td>\n",
       "      <td>-9.659258e-01</td>\n",
       "      <td>-2.588190e-01</td>\n",
       "      <td>0.004315</td>\n",
       "      <td>0.999991</td>\n",
       "    </tr>\n",
       "    <tr>\n",
       "      <th>2008-12-31 18:00:00</th>\n",
       "      <td>98.72</td>\n",
       "      <td>9.60</td>\n",
       "      <td>1.230746e+09</td>\n",
       "      <td>-1.000000e+00</td>\n",
       "      <td>7.867334e-13</td>\n",
       "      <td>0.005032</td>\n",
       "      <td>0.999987</td>\n",
       "    </tr>\n",
       "    <tr>\n",
       "      <th>2008-12-31 19:00:00</th>\n",
       "      <td>98.72</td>\n",
       "      <td>9.67</td>\n",
       "      <td>1.230750e+09</td>\n",
       "      <td>-9.659258e-01</td>\n",
       "      <td>2.588190e-01</td>\n",
       "      <td>0.005749</td>\n",
       "      <td>0.999983</td>\n",
       "    </tr>\n",
       "    <tr>\n",
       "      <th>2008-12-31 20:00:00</th>\n",
       "      <td>98.71</td>\n",
       "      <td>9.01</td>\n",
       "      <td>1.230754e+09</td>\n",
       "      <td>-8.660254e-01</td>\n",
       "      <td>5.000000e-01</td>\n",
       "      <td>0.006465</td>\n",
       "      <td>0.999979</td>\n",
       "    </tr>\n",
       "    <tr>\n",
       "      <th>2008-12-31 21:00:00</th>\n",
       "      <td>98.71</td>\n",
       "      <td>8.40</td>\n",
       "      <td>1.230757e+09</td>\n",
       "      <td>-7.071068e-01</td>\n",
       "      <td>7.071068e-01</td>\n",
       "      <td>0.007182</td>\n",
       "      <td>0.999974</td>\n",
       "    </tr>\n",
       "    <tr>\n",
       "      <th>2008-12-31 22:00:00</th>\n",
       "      <td>98.70</td>\n",
       "      <td>7.55</td>\n",
       "      <td>1.230761e+09</td>\n",
       "      <td>-5.000000e-01</td>\n",
       "      <td>8.660254e-01</td>\n",
       "      <td>0.007899</td>\n",
       "      <td>0.999969</td>\n",
       "    </tr>\n",
       "    <tr>\n",
       "      <th>2008-12-31 23:00:00</th>\n",
       "      <td>98.63</td>\n",
       "      <td>6.96</td>\n",
       "      <td>1.230764e+09</td>\n",
       "      <td>-2.588190e-01</td>\n",
       "      <td>9.659258e-01</td>\n",
       "      <td>0.008616</td>\n",
       "      <td>0.999963</td>\n",
       "    </tr>\n",
       "    <tr>\n",
       "      <th>2009-01-01 00:00:00</th>\n",
       "      <td>98.56</td>\n",
       "      <td>6.83</td>\n",
       "      <td>1.230768e+09</td>\n",
       "      <td>-1.776611e-12</td>\n",
       "      <td>1.000000e+00</td>\n",
       "      <td>0.009332</td>\n",
       "      <td>0.999956</td>\n",
       "    </tr>\n",
       "    <tr>\n",
       "      <th>2009-01-01 01:00:00</th>\n",
       "      <td>98.52</td>\n",
       "      <td>6.84</td>\n",
       "      <td>1.230772e+09</td>\n",
       "      <td>2.588190e-01</td>\n",
       "      <td>9.659258e-01</td>\n",
       "      <td>0.010049</td>\n",
       "      <td>0.999950</td>\n",
       "    </tr>\n",
       "  </tbody>\n",
       "</table>\n",
       "</div>"
      ],
      "text/plain": [
       "                        PS   T2M       Seconds       Day sin       Day cos  \\\n",
       "DateTime                                                                     \n",
       "2008-12-31 16:00:00  98.70  9.65  1.230739e+09 -8.660254e-01 -5.000000e-01   \n",
       "2008-12-31 17:00:00  98.71  9.38  1.230743e+09 -9.659258e-01 -2.588190e-01   \n",
       "2008-12-31 18:00:00  98.72  9.60  1.230746e+09 -1.000000e+00  7.867334e-13   \n",
       "2008-12-31 19:00:00  98.72  9.67  1.230750e+09 -9.659258e-01  2.588190e-01   \n",
       "2008-12-31 20:00:00  98.71  9.01  1.230754e+09 -8.660254e-01  5.000000e-01   \n",
       "2008-12-31 21:00:00  98.71  8.40  1.230757e+09 -7.071068e-01  7.071068e-01   \n",
       "2008-12-31 22:00:00  98.70  7.55  1.230761e+09 -5.000000e-01  8.660254e-01   \n",
       "2008-12-31 23:00:00  98.63  6.96  1.230764e+09 -2.588190e-01  9.659258e-01   \n",
       "2009-01-01 00:00:00  98.56  6.83  1.230768e+09 -1.776611e-12  1.000000e+00   \n",
       "2009-01-01 01:00:00  98.52  6.84  1.230772e+09  2.588190e-01  9.659258e-01   \n",
       "\n",
       "                     Year sin  Year cos  \n",
       "DateTime                                 \n",
       "2008-12-31 16:00:00  0.003598  0.999994  \n",
       "2008-12-31 17:00:00  0.004315  0.999991  \n",
       "2008-12-31 18:00:00  0.005032  0.999987  \n",
       "2008-12-31 19:00:00  0.005749  0.999983  \n",
       "2008-12-31 20:00:00  0.006465  0.999979  \n",
       "2008-12-31 21:00:00  0.007182  0.999974  \n",
       "2008-12-31 22:00:00  0.007899  0.999969  \n",
       "2008-12-31 23:00:00  0.008616  0.999963  \n",
       "2009-01-01 00:00:00  0.009332  0.999956  \n",
       "2009-01-01 01:00:00  0.010049  0.999950  "
      ]
     },
     "execution_count": 42,
     "metadata": {},
     "output_type": "execute_result"
    }
   ],
   "source": [
    "df_work[70120:70130]"
   ]
  },
  {
   "cell_type": "code",
   "execution_count": 37,
   "id": "2af00ef7",
   "metadata": {},
   "outputs": [
    {
     "name": "stderr",
     "output_type": "stream",
     "text": [
      "/var/folders/2_/2936w91502s198v13fcwhz9w0000gn/T/ipykernel_10096/843378061.py:1: SettingWithCopyWarning: \n",
      "A value is trying to be set on a copy of a slice from a DataFrame\n",
      "\n",
      "See the caveats in the documentation: https://pandas.pydata.org/pandas-docs/stable/user_guide/indexing.html#returning-a-view-versus-a-copy\n",
      "  df_work.drop([\"DateTime\", \"YEAR\", \"MO\", \"DY\", \"HR\"], axis=1, inplace=True)\n"
     ]
    }
   ],
   "source": [
    "df_work.drop([\"DateTime\", \"YEAR\", \"MO\", \"DY\", \"HR\"], axis=1, inplace=True)"
   ]
  },
  {
   "cell_type": "code",
   "execution_count": 40,
   "id": "c17d71c1",
   "metadata": {},
   "outputs": [
    {
     "name": "stderr",
     "output_type": "stream",
     "text": [
      "/var/folders/2_/2936w91502s198v13fcwhz9w0000gn/T/ipykernel_10096/542989612.py:4: SettingWithCopyWarning: \n",
      "A value is trying to be set on a copy of a slice from a DataFrame.\n",
      "Try using .loc[row_indexer,col_indexer] = value instead\n",
      "\n",
      "See the caveats in the documentation: https://pandas.pydata.org/pandas-docs/stable/user_guide/indexing.html#returning-a-view-versus-a-copy\n",
      "  df_work['Day sin'] = np.sin(df_work['Seconds'] * (2* np.pi / day))\n",
      "/var/folders/2_/2936w91502s198v13fcwhz9w0000gn/T/ipykernel_10096/542989612.py:5: SettingWithCopyWarning: \n",
      "A value is trying to be set on a copy of a slice from a DataFrame.\n",
      "Try using .loc[row_indexer,col_indexer] = value instead\n",
      "\n",
      "See the caveats in the documentation: https://pandas.pydata.org/pandas-docs/stable/user_guide/indexing.html#returning-a-view-versus-a-copy\n",
      "  df_work['Day cos'] = np.cos(df_work['Seconds'] * (2 * np.pi / day))\n",
      "/var/folders/2_/2936w91502s198v13fcwhz9w0000gn/T/ipykernel_10096/542989612.py:6: SettingWithCopyWarning: \n",
      "A value is trying to be set on a copy of a slice from a DataFrame.\n",
      "Try using .loc[row_indexer,col_indexer] = value instead\n",
      "\n",
      "See the caveats in the documentation: https://pandas.pydata.org/pandas-docs/stable/user_guide/indexing.html#returning-a-view-versus-a-copy\n",
      "  df_work['Year sin'] = np.sin(df_work['Seconds'] * (2 * np.pi / year))\n",
      "/var/folders/2_/2936w91502s198v13fcwhz9w0000gn/T/ipykernel_10096/542989612.py:7: SettingWithCopyWarning: \n",
      "A value is trying to be set on a copy of a slice from a DataFrame.\n",
      "Try using .loc[row_indexer,col_indexer] = value instead\n",
      "\n",
      "See the caveats in the documentation: https://pandas.pydata.org/pandas-docs/stable/user_guide/indexing.html#returning-a-view-versus-a-copy\n",
      "  df_work['Year cos'] = np.cos(df_work['Seconds'] * (2 * np.pi / year))\n"
     ]
    },
    {
     "data": {
      "text/html": [
       "<div>\n",
       "<style scoped>\n",
       "    .dataframe tbody tr th:only-of-type {\n",
       "        vertical-align: middle;\n",
       "    }\n",
       "\n",
       "    .dataframe tbody tr th {\n",
       "        vertical-align: top;\n",
       "    }\n",
       "\n",
       "    .dataframe thead th {\n",
       "        text-align: right;\n",
       "    }\n",
       "</style>\n",
       "<table border=\"1\" class=\"dataframe\">\n",
       "  <thead>\n",
       "    <tr style=\"text-align: right;\">\n",
       "      <th></th>\n",
       "      <th>PS</th>\n",
       "      <th>T2M</th>\n",
       "      <th>Seconds</th>\n",
       "      <th>Day sin</th>\n",
       "      <th>Day cos</th>\n",
       "      <th>Year sin</th>\n",
       "      <th>Year cos</th>\n",
       "    </tr>\n",
       "    <tr>\n",
       "      <th>DateTime</th>\n",
       "      <th></th>\n",
       "      <th></th>\n",
       "      <th></th>\n",
       "      <th></th>\n",
       "      <th></th>\n",
       "      <th></th>\n",
       "      <th></th>\n",
       "    </tr>\n",
       "  </thead>\n",
       "  <tbody>\n",
       "    <tr>\n",
       "      <th>2001-01-01 00:00:00</th>\n",
       "      <td>97.95</td>\n",
       "      <td>3.49</td>\n",
       "      <td>978307200.0</td>\n",
       "      <td>-3.803622e-12</td>\n",
       "      <td>1.000000</td>\n",
       "      <td>0.008300</td>\n",
       "      <td>0.999966</td>\n",
       "    </tr>\n",
       "    <tr>\n",
       "      <th>2001-01-01 01:00:00</th>\n",
       "      <td>97.89</td>\n",
       "      <td>3.65</td>\n",
       "      <td>978310800.0</td>\n",
       "      <td>2.588190e-01</td>\n",
       "      <td>0.965926</td>\n",
       "      <td>0.009017</td>\n",
       "      <td>0.999959</td>\n",
       "    </tr>\n",
       "    <tr>\n",
       "      <th>2001-01-01 02:00:00</th>\n",
       "      <td>97.82</td>\n",
       "      <td>3.41</td>\n",
       "      <td>978314400.0</td>\n",
       "      <td>5.000000e-01</td>\n",
       "      <td>0.866025</td>\n",
       "      <td>0.009734</td>\n",
       "      <td>0.999953</td>\n",
       "    </tr>\n",
       "    <tr>\n",
       "      <th>2001-01-01 03:00:00</th>\n",
       "      <td>97.76</td>\n",
       "      <td>3.55</td>\n",
       "      <td>978318000.0</td>\n",
       "      <td>7.071068e-01</td>\n",
       "      <td>0.707107</td>\n",
       "      <td>0.010450</td>\n",
       "      <td>0.999945</td>\n",
       "    </tr>\n",
       "    <tr>\n",
       "      <th>2001-01-01 04:00:00</th>\n",
       "      <td>97.71</td>\n",
       "      <td>3.92</td>\n",
       "      <td>978321600.0</td>\n",
       "      <td>8.660254e-01</td>\n",
       "      <td>0.500000</td>\n",
       "      <td>0.011167</td>\n",
       "      <td>0.999938</td>\n",
       "    </tr>\n",
       "  </tbody>\n",
       "</table>\n",
       "</div>"
      ],
      "text/plain": [
       "                        PS   T2M      Seconds       Day sin   Day cos  \\\n",
       "DateTime                                                                \n",
       "2001-01-01 00:00:00  97.95  3.49  978307200.0 -3.803622e-12  1.000000   \n",
       "2001-01-01 01:00:00  97.89  3.65  978310800.0  2.588190e-01  0.965926   \n",
       "2001-01-01 02:00:00  97.82  3.41  978314400.0  5.000000e-01  0.866025   \n",
       "2001-01-01 03:00:00  97.76  3.55  978318000.0  7.071068e-01  0.707107   \n",
       "2001-01-01 04:00:00  97.71  3.92  978321600.0  8.660254e-01  0.500000   \n",
       "\n",
       "                     Year sin  Year cos  \n",
       "DateTime                                 \n",
       "2001-01-01 00:00:00  0.008300  0.999966  \n",
       "2001-01-01 01:00:00  0.009017  0.999959  \n",
       "2001-01-01 02:00:00  0.009734  0.999953  \n",
       "2001-01-01 03:00:00  0.010450  0.999945  \n",
       "2001-01-01 04:00:00  0.011167  0.999938  "
      ]
     },
     "execution_count": 40,
     "metadata": {},
     "output_type": "execute_result"
    }
   ],
   "source": [
    "day = 60*60*24\n",
    "year = 365.2425*day\n",
    "\n",
    "df_work['Day sin'] = np.sin(df_work['Seconds'] * (2* np.pi / day))\n",
    "df_work['Day cos'] = np.cos(df_work['Seconds'] * (2 * np.pi / day))\n",
    "df_work['Year sin'] = np.sin(df_work['Seconds'] * (2 * np.pi / year))\n",
    "df_work['Year cos'] = np.cos(df_work['Seconds'] * (2 * np.pi / year))\n",
    "df_work[70120:70130]"
   ]
  },
  {
   "cell_type": "code",
   "execution_count": 72,
   "id": "41cd928f",
   "metadata": {},
   "outputs": [
    {
     "data": {
      "text/plain": [
       "[<matplotlib.lines.Line2D at 0x2cf44eeb0>]"
      ]
     },
     "execution_count": 72,
     "metadata": {},
     "output_type": "execute_result"
    },
    {
     "data": {
      "image/png": "[encoded data removed]",
      "text/plain": [
       "<Figure size 432x288 with 1 Axes>"
      ]
     },
     "metadata": {
      "needs_background": "light"
     },
     "output_type": "display_data"
    }
   ],
   "source": [
    "plt.plot(df_work[\"Day sin\"][1:25])"
   ]
  },
  {
   "cell_type": "code",
   "execution_count": 57,
   "id": "4fab61f6",
   "metadata": {},
   "outputs": [
    {
     "data": {
      "text/html": [
       "<div>\n",
       "<style scoped>\n",
       "    .dataframe tbody tr th:only-of-type {\n",
       "        vertical-align: middle;\n",
       "    }\n",
       "\n",
       "    .dataframe tbody tr th {\n",
       "        vertical-align: top;\n",
       "    }\n",
       "\n",
       "    .dataframe thead th {\n",
       "        text-align: right;\n",
       "    }\n",
       "</style>\n",
       "<table border=\"1\" class=\"dataframe\">\n",
       "  <thead>\n",
       "    <tr style=\"text-align: right;\">\n",
       "      <th></th>\n",
       "      <th>PS</th>\n",
       "      <th>T2M</th>\n",
       "      <th>Day sin</th>\n",
       "      <th>Day cos</th>\n",
       "      <th>Year sin</th>\n",
       "      <th>Year cos</th>\n",
       "    </tr>\n",
       "    <tr>\n",
       "      <th>DateTime</th>\n",
       "      <th></th>\n",
       "      <th></th>\n",
       "      <th></th>\n",
       "      <th></th>\n",
       "      <th></th>\n",
       "      <th></th>\n",
       "    </tr>\n",
       "  </thead>\n",
       "  <tbody>\n",
       "    <tr>\n",
       "      <th>2001-01-01 00:00:00</th>\n",
       "      <td>97.95</td>\n",
       "      <td>3.49</td>\n",
       "      <td>-3.803622e-12</td>\n",
       "      <td>1.000000</td>\n",
       "      <td>0.008300</td>\n",
       "      <td>0.999966</td>\n",
       "    </tr>\n",
       "    <tr>\n",
       "      <th>2001-01-01 01:00:00</th>\n",
       "      <td>97.89</td>\n",
       "      <td>3.65</td>\n",
       "      <td>2.588190e-01</td>\n",
       "      <td>0.965926</td>\n",
       "      <td>0.009017</td>\n",
       "      <td>0.999959</td>\n",
       "    </tr>\n",
       "    <tr>\n",
       "      <th>2001-01-01 02:00:00</th>\n",
       "      <td>97.82</td>\n",
       "      <td>3.41</td>\n",
       "      <td>5.000000e-01</td>\n",
       "      <td>0.866025</td>\n",
       "      <td>0.009734</td>\n",
       "      <td>0.999953</td>\n",
       "    </tr>\n",
       "    <tr>\n",
       "      <th>2001-01-01 03:00:00</th>\n",
       "      <td>97.76</td>\n",
       "      <td>3.55</td>\n",
       "      <td>7.071068e-01</td>\n",
       "      <td>0.707107</td>\n",
       "      <td>0.010450</td>\n",
       "      <td>0.999945</td>\n",
       "    </tr>\n",
       "    <tr>\n",
       "      <th>2001-01-01 04:00:00</th>\n",
       "      <td>97.71</td>\n",
       "      <td>3.92</td>\n",
       "      <td>8.660254e-01</td>\n",
       "      <td>0.500000</td>\n",
       "      <td>0.011167</td>\n",
       "      <td>0.999938</td>\n",
       "    </tr>\n",
       "  </tbody>\n",
       "</table>\n",
       "</div>"
      ],
      "text/plain": [
       "                        PS   T2M       Day sin   Day cos  Year sin  Year cos\n",
       "DateTime                                                                    \n",
       "2001-01-01 00:00:00  97.95  3.49 -3.803622e-12  1.000000  0.008300  0.999966\n",
       "2001-01-01 01:00:00  97.89  3.65  2.588190e-01  0.965926  0.009017  0.999959\n",
       "2001-01-01 02:00:00  97.82  3.41  5.000000e-01  0.866025  0.009734  0.999953\n",
       "2001-01-01 03:00:00  97.76  3.55  7.071068e-01  0.707107  0.010450  0.999945\n",
       "2001-01-01 04:00:00  97.71  3.92  8.660254e-01  0.500000  0.011167  0.999938"
      ]
     },
     "execution_count": 57,
     "metadata": {},
     "output_type": "execute_result"
    }
   ],
   "source": [
    "df_work.drop([\"Seconds\"], inplace=True, axis = 1)\n",
    "df_work.head()"
   ]
  },
  {
   "cell_type": "code",
   "execution_count": 47,
   "id": "337cc026",
   "metadata": {},
   "outputs": [],
   "source": [
    "#Put the data in a X and y arrays\n",
    "#We get a number of datas to predict the next one. In case of a window_size of 5\n",
    "#The shape change to accept multivariate variables, the most important variable comes first. \n",
    "#First round x[[t0, ds0, ..., yc0] [t1, ds1, ..., yc1] ...[t4, ds4, ..., yc4]] y[t5][p5]\n",
    "#First round x[[t1, ds1, ..., yc1] [t2, ds2, ..., yc2] ...[t5, ds5, ..., yc5]] y[t6][p6]\n",
    "#.... till the end of serie. \n",
    "def df_xy_series(df, window_size=WINDOW_SIZE, label1=4, label2=5):\n",
    "    #Convert dataset to Numpy\n",
    "    df_as_np = df.to_numpy()\n",
    "    X=[]\n",
    "    y=[]\n",
    "    \n",
    "    for i in range(len(df_as_np)-window_size):\n",
    "        #ADDINg AN ENTIRE ROW\n",
    "        row = [r for r in df_as_np[i:i+window_size]]\n",
    "        X.append(row)\n",
    "        #add the 2 labels. \n",
    "        label = df_as_np[i+window_size][label1], df_as_np[i+window_size][label2]\n",
    "        y.append(label)\n",
    "    \n",
    "    return np.array(X), np.array(y)"
   ]
  },
  {
   "cell_type": "code",
   "execution_count": 61,
   "id": "68aa5d79",
   "metadata": {},
   "outputs": [
    {
     "data": {
      "text/plain": [
       "((184075, 5, 6), (184075, 2), array([97.69,  4.28]))"
      ]
     },
     "execution_count": 61,
     "metadata": {},
     "output_type": "execute_result"
    }
   ],
   "source": [
    "X, y = df_xy_series(df_work, label1=0, label2=1)\n",
    "X.shape, y.shape, y[0]"
   ]
  },
  {
   "cell_type": "code",
   "execution_count": 62,
   "id": "37a8c5b6",
   "metadata": {},
   "outputs": [
    {
     "data": {
      "text/plain": [
       "((150000, 5, 6), (34075, 5, 6), (150000, 2), (34075, 2))"
      ]
     },
     "execution_count": 62,
     "metadata": {},
     "output_type": "execute_result"
    }
   ],
   "source": [
    "#Split the data \n",
    "#X_train, X_val, y_train, y_val = train_test_split(X, y, test_size=0.33)\n",
    "#X_train.shape, X_val.shape, y_train.shape, y_val.shape \n",
    "\n",
    "X_train, y_train = X[:150000], y[:150000]\n",
    "X_val, y_val = X[150000:], y[150000:]\n",
    "X_train.shape, X_val.shape, y_train.shape, y_val.shape "
   ]
  },
  {
   "cell_type": "code",
   "execution_count": 10,
   "id": "75679c1b",
   "metadata": {},
   "outputs": [],
   "source": [
    "#Standarize the input training data\n",
    "def preprocess_X(X, cols=[0]):\n",
    "    for n in cols: \n",
    "        mean = np.mean(X[:, :, n])\n",
    "        std = np.std(X[:, :, n])\n",
    "        X[:, :, n] = (X[:, :, n] - mean) / std\n",
    "        print (\"trreating col X {n}\",  n)\n",
    "    return X\n",
    "        \n",
    "def preprocess_y(y, cols=[0]):\n",
    "    for n in cols: \n",
    "        mean = np.mean(y[ :, n])\n",
    "        std = np.std(y[:, n])\n",
    "        y[:, n] = (y[:, n] - mean) / std\n",
    "        print (\"treating col y {n}\",  n)\n",
    "    return y"
   ]
  },
  {
   "cell_type": "code",
   "execution_count": 11,
   "id": "277d9e9c",
   "metadata": {},
   "outputs": [],
   "source": [
    "\n",
    "#X_train = preprocess_X (X_train, cols=[0, 1, 2, 3, 5])\n"
   ]
  },
  {
   "cell_type": "code",
   "execution_count": 63,
   "id": "2e13b981",
   "metadata": {},
   "outputs": [
    {
     "data": {
      "text/plain": [
       "array([97.69,  4.28])"
      ]
     },
     "execution_count": 63,
     "metadata": {},
     "output_type": "execute_result"
    }
   ],
   "source": [
    "y_train[0]"
   ]
  },
  {
   "cell_type": "code",
   "execution_count": 14,
   "id": "7dfae45c",
   "metadata": {},
   "outputs": [],
   "source": [
    "#y_train = preprocess_y(y_train, [0, 1])"
   ]
  },
  {
   "cell_type": "code",
   "execution_count": 15,
   "id": "8216d405",
   "metadata": {},
   "outputs": [
    {
     "data": {
      "text/plain": [
       "array([97.69,  4.28])"
      ]
     },
     "execution_count": 15,
     "metadata": {},
     "output_type": "execute_result"
    }
   ],
   "source": [
    "y_train[0]"
   ]
  },
  {
   "cell_type": "code",
   "execution_count": 64,
   "id": "22cc9e50",
   "metadata": {},
   "outputs": [],
   "source": [
    "# Define different models\n",
    "def get_model(kindmodel, varsInput = 1, window_size = WINDOW_SIZE):\n",
    "    switcher = {\n",
    "        #LSTM Bidirectionsl\n",
    "        12:tf.keras.models.Sequential([\n",
    "            tf.keras.layers.Conv1D(filters=64, kernel_size=3,\n",
    "                     strides=1,\n",
    "                     activation=\"relu\",\n",
    "                     padding='causal',\n",
    "                     input_shape=[window_size, varsInput]),\n",
    "            tf.keras.layers.LSTM(64, return_sequences=True),\n",
    "            tf.keras.layers.LSTM(64),\n",
    "            tf.keras.layers.Dense(8, activation=\"relu\"),\n",
    "            tf.keras.layers.Dense(4, activation=\"relu\"),\n",
    "            tf.keras.layers.Dense(2)]),\n",
    "        #convolutiona + Maxpooling\n",
    "        2:tf.keras.models.Sequential([\n",
    "            tf.keras.layers.Conv1D(filters=64, kernel_size=2,\n",
    "                     activation=\"relu\",\n",
    "                     input_shape=[window_size, varsInput]), \n",
    "            tf.keras.layers.MaxPooling1D(pool_size=2), \n",
    "            tf.keras.layers.Flatten(), \n",
    "            tf.keras.layers.Dense(8, activation='relu'), \n",
    "            tf.keras.layers.Dense(2)]), \n",
    "        #Input Layer LSTM\n",
    "        3:tf.keras.models.Sequential([\n",
    "            tf.keras.layers.InputLayer((window_size, varsInput)), \n",
    "            tf.keras.layers.LSTM(64), \n",
    "            tf.keras.layers.Dense(8, activation='relu'), \n",
    "            tf.keras.layers.Dense(2, activation=\"linear\")]), \n",
    "        4:tf.keras.models.Sequential([\n",
    "            tf.keras.layers.Conv1D(filters=64, kernel_size=3,\n",
    "                     strides=1,\n",
    "                     activation=\"relu\",\n",
    "                     padding='causal',\n",
    "                     input_shape=[window_size, varsInput]),\n",
    "            tf.keras.layers.Flatten(), \n",
    "            tf.keras.layers.Dense(8, activation=\"relu\"),\n",
    "            tf.keras.layers.Dense(2)]),\n",
    "    }\n",
    "    return switcher.get(kindmodel, None)"
   ]
  },
  {
   "cell_type": "code",
   "execution_count": 65,
   "id": "326b9f31",
   "metadata": {},
   "outputs": [
    {
     "name": "stdout",
     "output_type": "stream",
     "text": [
      "Metal device set to: Apple M1 Pro\n"
     ]
    },
    {
     "name": "stderr",
     "output_type": "stream",
     "text": [
      "2022-08-08 11:16:46.087059: I tensorflow/core/common_runtime/pluggable_device/pluggable_device_factory.cc:305] Could not identify NUMA node of platform GPU ID 0, defaulting to 0. Your kernel may not have been built with NUMA support.\n",
      "2022-08-08 11:16:46.087197: I tensorflow/core/common_runtime/pluggable_device/pluggable_device_factory.cc:271] Created TensorFlow device (/job:localhost/replica:0/task:0/device:GPU:0 with 0 MB memory) -> physical PluggableDevice (device: 0, name: METAL, pci bus id: <undefined>)\n"
     ]
    },
    {
     "name": "stdout",
     "output_type": "stream",
     "text": [
      "Model: \"sequential_2\"\n",
      "_________________________________________________________________\n",
      " Layer (type)                Output Shape              Param #   \n",
      "=================================================================\n",
      " lstm_2 (LSTM)               (None, 64)                18176     \n",
      "                                                                 \n",
      " dense_5 (Dense)             (None, 8)                 520       \n",
      "                                                                 \n",
      " dense_6 (Dense)             (None, 2)                 18        \n",
      "                                                                 \n",
      "=================================================================\n",
      "Total params: 18,714\n",
      "Trainable params: 18,714\n",
      "Non-trainable params: 0\n",
      "_________________________________________________________________\n"
     ]
    },
    {
     "name": "stderr",
     "output_type": "stream",
     "text": [
      "2022-08-08 11:16:46.813280: W tensorflow/core/platform/profile_utils/cpu_utils.cc:128] Failed to get CPU frequency: 0 Hz\n",
      "2022-08-08 11:16:46.950536: I tensorflow/core/grappler/optimizers/custom_graph_optimizer_registry.cc:113] Plugin optimizer for device_type GPU is enabled.\n",
      "2022-08-08 11:16:46.988424: I tensorflow/core/grappler/optimizers/custom_graph_optimizer_registry.cc:113] Plugin optimizer for device_type GPU is enabled.\n"
     ]
    },
    {
     "name": "stdout",
     "output_type": "stream",
     "text": [
      "4688/4688 [==============================] - 11s 2ms/step\n",
      "compatible! Congrats!\n"
     ]
    }
   ],
   "source": [
    "model12 = get_model(3, varsInput = 6)\n",
    "model12.summary()\n",
    "cp12 = ModelCheckpoint('model12/', save_best_only=True)\n",
    "try:\n",
    "    model12.predict(X_train)\n",
    "except:\n",
    "    print(\"Architecture and dataset incompatible\")\n",
    "else:\n",
    "    print(\"compatible! Congrats!\")"
   ]
  },
  {
   "cell_type": "code",
   "execution_count": 66,
   "id": "8af823b2",
   "metadata": {},
   "outputs": [
    {
     "name": "stdout",
     "output_type": "stream",
     "text": [
      "Epoch 1/10\n"
     ]
    },
    {
     "name": "stderr",
     "output_type": "stream",
     "text": [
      "2022-08-08 11:17:04.542708: I tensorflow/core/grappler/optimizers/custom_graph_optimizer_registry.cc:113] Plugin optimizer for device_type GPU is enabled.\n",
      "2022-08-08 11:17:04.649283: I tensorflow/core/grappler/optimizers/custom_graph_optimizer_registry.cc:113] Plugin optimizer for device_type GPU is enabled.\n",
      "2022-08-08 11:17:05.254320: I tensorflow/core/grappler/optimizers/custom_graph_optimizer_registry.cc:113] Plugin optimizer for device_type GPU is enabled.\n"
     ]
    },
    {
     "name": "stdout",
     "output_type": "stream",
     "text": [
      "4688/4688 [==============================] - ETA: 0s - loss: 236.6273 - root_mean_squared_error: 15.3827"
     ]
    },
    {
     "name": "stderr",
     "output_type": "stream",
     "text": [
      "2022-08-08 11:17:39.667841: I tensorflow/core/grappler/optimizers/custom_graph_optimizer_registry.cc:113] Plugin optimizer for device_type GPU is enabled.\n",
      "2022-08-08 11:17:39.709049: I tensorflow/core/grappler/optimizers/custom_graph_optimizer_registry.cc:113] Plugin optimizer for device_type GPU is enabled.\n",
      "WARNING:absl:Found untraced functions such as lstm_cell_2_layer_call_fn, lstm_cell_2_layer_call_and_return_conditional_losses while saving (showing 2 of 2). These functions will not be directly callable after loading.\n"
     ]
    },
    {
     "name": "stdout",
     "output_type": "stream",
     "text": [
      "INFO:tensorflow:Assets written to: model12/assets\n"
     ]
    },
    {
     "name": "stderr",
     "output_type": "stream",
     "text": [
      "INFO:tensorflow:Assets written to: model12/assets\n"
     ]
    },
    {
     "name": "stdout",
     "output_type": "stream",
     "text": [
      "4688/4688 [==============================] - 43s 9ms/step - loss: 236.6273 - root_mean_squared_error: 15.3827 - val_loss: 0.3410 - val_root_mean_squared_error: 0.5840\n",
      "Epoch 2/10\n",
      "4684/4688 [============================>.] - ETA: 0s - loss: 0.2033 - root_mean_squared_error: 0.4509"
     ]
    },
    {
     "name": "stderr",
     "output_type": "stream",
     "text": [
      "WARNING:absl:Found untraced functions such as lstm_cell_2_layer_call_fn, lstm_cell_2_layer_call_and_return_conditional_losses while saving (showing 2 of 2). These functions will not be directly callable after loading.\n"
     ]
    },
    {
     "name": "stdout",
     "output_type": "stream",
     "text": [
      "INFO:tensorflow:Assets written to: model12/assets\n"
     ]
    },
    {
     "name": "stderr",
     "output_type": "stream",
     "text": [
      "INFO:tensorflow:Assets written to: model12/assets\n"
     ]
    },
    {
     "name": "stdout",
     "output_type": "stream",
     "text": [
      "4688/4688 [==============================] - 41s 9ms/step - loss: 0.2033 - root_mean_squared_error: 0.4509 - val_loss: 0.2655 - val_root_mean_squared_error: 0.5153\n",
      "Epoch 3/10\n",
      "4686/4688 [============================>.] - ETA: 0s - loss: 0.1402 - root_mean_squared_error: 0.3745"
     ]
    },
    {
     "name": "stderr",
     "output_type": "stream",
     "text": [
      "WARNING:absl:Found untraced functions such as lstm_cell_2_layer_call_fn, lstm_cell_2_layer_call_and_return_conditional_losses while saving (showing 2 of 2). These functions will not be directly callable after loading.\n"
     ]
    },
    {
     "name": "stdout",
     "output_type": "stream",
     "text": [
      "INFO:tensorflow:Assets written to: model12/assets\n"
     ]
    },
    {
     "name": "stderr",
     "output_type": "stream",
     "text": [
      "INFO:tensorflow:Assets written to: model12/assets\n"
     ]
    },
    {
     "name": "stdout",
     "output_type": "stream",
     "text": [
      "4688/4688 [==============================] - 40s 9ms/step - loss: 0.1402 - root_mean_squared_error: 0.3745 - val_loss: 0.1317 - val_root_mean_squared_error: 0.3629\n",
      "Epoch 4/10\n",
      "4682/4688 [============================>.] - ETA: 0s - loss: 0.1252 - root_mean_squared_error: 0.3538"
     ]
    },
    {
     "name": "stderr",
     "output_type": "stream",
     "text": [
      "WARNING:absl:Found untraced functions such as lstm_cell_2_layer_call_fn, lstm_cell_2_layer_call_and_return_conditional_losses while saving (showing 2 of 2). These functions will not be directly callable after loading.\n"
     ]
    },
    {
     "name": "stdout",
     "output_type": "stream",
     "text": [
      "INFO:tensorflow:Assets written to: model12/assets\n"
     ]
    },
    {
     "name": "stderr",
     "output_type": "stream",
     "text": [
      "INFO:tensorflow:Assets written to: model12/assets\n"
     ]
    },
    {
     "name": "stdout",
     "output_type": "stream",
     "text": [
      "4688/4688 [==============================] - 40s 9ms/step - loss: 0.1252 - root_mean_squared_error: 0.3538 - val_loss: 0.1195 - val_root_mean_squared_error: 0.3457\n",
      "Epoch 5/10\n",
      "4682/4688 [============================>.] - ETA: 0s - loss: 0.1146 - root_mean_squared_error: 0.3386"
     ]
    },
    {
     "name": "stderr",
     "output_type": "stream",
     "text": [
      "WARNING:absl:Found untraced functions such as lstm_cell_2_layer_call_fn, lstm_cell_2_layer_call_and_return_conditional_losses while saving (showing 2 of 2). These functions will not be directly callable after loading.\n"
     ]
    },
    {
     "name": "stdout",
     "output_type": "stream",
     "text": [
      "INFO:tensorflow:Assets written to: model12/assets\n"
     ]
    },
    {
     "name": "stderr",
     "output_type": "stream",
     "text": [
      "INFO:tensorflow:Assets written to: model12/assets\n"
     ]
    },
    {
     "name": "stdout",
     "output_type": "stream",
     "text": [
      "4688/4688 [==============================] - 41s 9ms/step - loss: 0.1146 - root_mean_squared_error: 0.3386 - val_loss: 0.0908 - val_root_mean_squared_error: 0.3013\n",
      "Epoch 6/10\n",
      "4684/4688 [============================>.] - ETA: 0s - loss: 0.1032 - root_mean_squared_error: 0.3213"
     ]
    },
    {
     "name": "stderr",
     "output_type": "stream",
     "text": [
      "WARNING:absl:Found untraced functions such as lstm_cell_2_layer_call_fn, lstm_cell_2_layer_call_and_return_conditional_losses while saving (showing 2 of 2). These functions will not be directly callable after loading.\n"
     ]
    },
    {
     "name": "stdout",
     "output_type": "stream",
     "text": [
      "INFO:tensorflow:Assets written to: model12/assets\n"
     ]
    },
    {
     "name": "stderr",
     "output_type": "stream",
     "text": [
      "INFO:tensorflow:Assets written to: model12/assets\n"
     ]
    },
    {
     "name": "stdout",
     "output_type": "stream",
     "text": [
      "4688/4688 [==============================] - 41s 9ms/step - loss: 0.1032 - root_mean_squared_error: 0.3213 - val_loss: 0.0904 - val_root_mean_squared_error: 0.3007\n",
      "Epoch 7/10\n",
      "4685/4688 [============================>.] - ETA: 0s - loss: 0.0912 - root_mean_squared_error: 0.3019"
     ]
    },
    {
     "name": "stderr",
     "output_type": "stream",
     "text": [
      "WARNING:absl:Found untraced functions such as lstm_cell_2_layer_call_fn, lstm_cell_2_layer_call_and_return_conditional_losses while saving (showing 2 of 2). These functions will not be directly callable after loading.\n"
     ]
    },
    {
     "name": "stdout",
     "output_type": "stream",
     "text": [
      "INFO:tensorflow:Assets written to: model12/assets\n"
     ]
    },
    {
     "name": "stderr",
     "output_type": "stream",
     "text": [
      "INFO:tensorflow:Assets written to: model12/assets\n"
     ]
    },
    {
     "name": "stdout",
     "output_type": "stream",
     "text": [
      "4688/4688 [==============================] - 41s 9ms/step - loss: 0.0912 - root_mean_squared_error: 0.3019 - val_loss: 0.0856 - val_root_mean_squared_error: 0.2925\n",
      "Epoch 8/10\n",
      "4685/4688 [============================>.] - ETA: 0s - loss: 0.0859 - root_mean_squared_error: 0.2931"
     ]
    },
    {
     "name": "stderr",
     "output_type": "stream",
     "text": [
      "WARNING:absl:Found untraced functions such as lstm_cell_2_layer_call_fn, lstm_cell_2_layer_call_and_return_conditional_losses while saving (showing 2 of 2). These functions will not be directly callable after loading.\n"
     ]
    },
    {
     "name": "stdout",
     "output_type": "stream",
     "text": [
      "INFO:tensorflow:Assets written to: model12/assets\n"
     ]
    },
    {
     "name": "stderr",
     "output_type": "stream",
     "text": [
      "INFO:tensorflow:Assets written to: model12/assets\n"
     ]
    },
    {
     "name": "stdout",
     "output_type": "stream",
     "text": [
      "4688/4688 [==============================] - 41s 9ms/step - loss: 0.0859 - root_mean_squared_error: 0.2931 - val_loss: 0.0696 - val_root_mean_squared_error: 0.2639\n",
      "Epoch 9/10\n",
      "4683/4688 [============================>.] - ETA: 0s - loss: 0.0825 - root_mean_squared_error: 0.2872"
     ]
    },
    {
     "name": "stderr",
     "output_type": "stream",
     "text": [
      "WARNING:absl:Found untraced functions such as lstm_cell_2_layer_call_fn, lstm_cell_2_layer_call_and_return_conditional_losses while saving (showing 2 of 2). These functions will not be directly callable after loading.\n"
     ]
    },
    {
     "name": "stdout",
     "output_type": "stream",
     "text": [
      "INFO:tensorflow:Assets written to: model12/assets\n"
     ]
    },
    {
     "name": "stderr",
     "output_type": "stream",
     "text": [
      "INFO:tensorflow:Assets written to: model12/assets\n"
     ]
    },
    {
     "name": "stdout",
     "output_type": "stream",
     "text": [
      "4688/4688 [==============================] - 41s 9ms/step - loss: 0.0825 - root_mean_squared_error: 0.2872 - val_loss: 0.0663 - val_root_mean_squared_error: 0.2575\n",
      "Epoch 10/10\n",
      "4688/4688 [==============================] - 38s 8ms/step - loss: 0.0809 - root_mean_squared_error: 0.2844 - val_loss: 0.0964 - val_root_mean_squared_error: 0.3105\n"
     ]
    },
    {
     "data": {
      "text/plain": [
       "<keras.callbacks.History at 0x28c3d2310>"
      ]
     },
     "execution_count": 66,
     "metadata": {},
     "output_type": "execute_result"
    }
   ],
   "source": [
    "model12.compile(loss=tf.keras.losses.MeanSquaredError(), optimizer=\"Adam\", metrics=[RootMeanSquaredError()])\n",
    "model12.fit(X_train, y_train, validation_data=(X_val, y_val), epochs=gEpochs, callbacks=[cp12])"
   ]
  },
  {
   "cell_type": "code",
   "execution_count": 73,
   "id": "e5ff4292",
   "metadata": {},
   "outputs": [],
   "source": [
    "def get_predictions(model, X, y):\n",
    "    predictions=model.predict(X)\n",
    "    \n",
    "    p_preds, temp_preds = predictions[:, 0], predictions[:, 1]\n",
    "    p_actuals, temp_actuals = y[:, 0], y[:, 1]\n",
    "    results = pd.DataFrame(data={'Temperature Predictions': temp_preds,\n",
    "                            'Temperature Actuals':temp_actuals,\n",
    "                            'Pressure Predictions': p_preds,\n",
    "                            'Pressure Actuals': p_actuals\n",
    "                            })\n",
    "    return predictions, results\n"
   ]
  },
  {
   "cell_type": "code",
   "execution_count": 74,
   "id": "9887926e",
   "metadata": {},
   "outputs": [
    {
     "name": "stdout",
     "output_type": "stream",
     "text": [
      "  36/1065 [>.............................] - ETA: 3s"
     ]
    },
    {
     "name": "stderr",
     "output_type": "stream",
     "text": [
      "2022-08-08 11:26:57.211877: I tensorflow/core/grappler/optimizers/custom_graph_optimizer_registry.cc:113] Plugin optimizer for device_type GPU is enabled.\n",
      "2022-08-08 11:26:57.248407: I tensorflow/core/grappler/optimizers/custom_graph_optimizer_registry.cc:113] Plugin optimizer for device_type GPU is enabled.\n"
     ]
    },
    {
     "name": "stdout",
     "output_type": "stream",
     "text": [
      "1065/1065 [==============================] - 3s 2ms/step\n"
     ]
    },
    {
     "data": {
      "text/html": [
       "<div>\n",
       "<style scoped>\n",
       "    .dataframe tbody tr th:only-of-type {\n",
       "        vertical-align: middle;\n",
       "    }\n",
       "\n",
       "    .dataframe tbody tr th {\n",
       "        vertical-align: top;\n",
       "    }\n",
       "\n",
       "    .dataframe thead th {\n",
       "        text-align: right;\n",
       "    }\n",
       "</style>\n",
       "<table border=\"1\" class=\"dataframe\">\n",
       "  <thead>\n",
       "    <tr style=\"text-align: right;\">\n",
       "      <th></th>\n",
       "      <th>Temperature Predictions</th>\n",
       "      <th>Temperature Actuals</th>\n",
       "      <th>Pressure Predictions</th>\n",
       "      <th>Pressure Actuals</th>\n",
       "    </tr>\n",
       "  </thead>\n",
       "  <tbody>\n",
       "    <tr>\n",
       "      <th>0</th>\n",
       "      <td>2.710590</td>\n",
       "      <td>3.05</td>\n",
       "      <td>98.358055</td>\n",
       "      <td>98.09</td>\n",
       "    </tr>\n",
       "    <tr>\n",
       "      <th>1</th>\n",
       "      <td>2.901651</td>\n",
       "      <td>2.94</td>\n",
       "      <td>98.423820</td>\n",
       "      <td>98.10</td>\n",
       "    </tr>\n",
       "    <tr>\n",
       "      <th>2</th>\n",
       "      <td>3.884439</td>\n",
       "      <td>3.63</td>\n",
       "      <td>98.472946</td>\n",
       "      <td>98.11</td>\n",
       "    </tr>\n",
       "    <tr>\n",
       "      <th>3</th>\n",
       "      <td>5.463882</td>\n",
       "      <td>5.87</td>\n",
       "      <td>98.465164</td>\n",
       "      <td>98.10</td>\n",
       "    </tr>\n",
       "    <tr>\n",
       "      <th>4</th>\n",
       "      <td>7.954113</td>\n",
       "      <td>7.76</td>\n",
       "      <td>98.388802</td>\n",
       "      <td>98.09</td>\n",
       "    </tr>\n",
       "    <tr>\n",
       "      <th>...</th>\n",
       "      <td>...</td>\n",
       "      <td>...</td>\n",
       "      <td>...</td>\n",
       "      <td>...</td>\n",
       "    </tr>\n",
       "    <tr>\n",
       "      <th>34070</th>\n",
       "      <td>12.225891</td>\n",
       "      <td>12.30</td>\n",
       "      <td>99.395096</td>\n",
       "      <td>99.14</td>\n",
       "    </tr>\n",
       "    <tr>\n",
       "      <th>34071</th>\n",
       "      <td>11.454674</td>\n",
       "      <td>12.08</td>\n",
       "      <td>99.291023</td>\n",
       "      <td>99.15</td>\n",
       "    </tr>\n",
       "    <tr>\n",
       "      <th>34072</th>\n",
       "      <td>11.600885</td>\n",
       "      <td>11.65</td>\n",
       "      <td>99.269768</td>\n",
       "      <td>99.15</td>\n",
       "    </tr>\n",
       "    <tr>\n",
       "      <th>34073</th>\n",
       "      <td>11.156206</td>\n",
       "      <td>11.52</td>\n",
       "      <td>99.341774</td>\n",
       "      <td>99.14</td>\n",
       "    </tr>\n",
       "    <tr>\n",
       "      <th>34074</th>\n",
       "      <td>11.262064</td>\n",
       "      <td>11.51</td>\n",
       "      <td>99.268532</td>\n",
       "      <td>99.13</td>\n",
       "    </tr>\n",
       "  </tbody>\n",
       "</table>\n",
       "<p>34075 rows × 4 columns</p>\n",
       "</div>"
      ],
      "text/plain": [
       "       Temperature Predictions  Temperature Actuals  Pressure Predictions  \\\n",
       "0                     2.710590                 3.05             98.358055   \n",
       "1                     2.901651                 2.94             98.423820   \n",
       "2                     3.884439                 3.63             98.472946   \n",
       "3                     5.463882                 5.87             98.465164   \n",
       "4                     7.954113                 7.76             98.388802   \n",
       "...                        ...                  ...                   ...   \n",
       "34070                12.225891                12.30             99.395096   \n",
       "34071                11.454674                12.08             99.291023   \n",
       "34072                11.600885                11.65             99.269768   \n",
       "34073                11.156206                11.52             99.341774   \n",
       "34074                11.262064                11.51             99.268532   \n",
       "\n",
       "       Pressure Actuals  \n",
       "0                 98.09  \n",
       "1                 98.10  \n",
       "2                 98.11  \n",
       "3                 98.10  \n",
       "4                 98.09  \n",
       "...                 ...  \n",
       "34070             99.14  \n",
       "34071             99.15  \n",
       "34072             99.15  \n",
       "34073             99.14  \n",
       "34074             99.13  \n",
       "\n",
       "[34075 rows x 4 columns]"
      ]
     },
     "execution_count": 74,
     "metadata": {},
     "output_type": "execute_result"
    }
   ],
   "source": [
    "train_predictions, train_results= get_predictions(\n",
    "    model12, X_val, y_val)\n",
    "train_results"
   ]
  },
  {
   "cell_type": "code",
   "execution_count": 80,
   "id": "6e66800a",
   "metadata": {},
   "outputs": [
    {
     "data": {
      "text/plain": [
       "array([[[ 9.82100000e+01,  2.56000000e+00, -7.72746244e-13,\n",
       "          1.00000000e+00,  6.52975776e-01,  7.57378793e-01],\n",
       "        [ 9.82000000e+01,  2.59000000e+00,  2.58819045e-01,\n",
       "          9.65925826e-01,  6.53518484e-01,  7.56910557e-01],\n",
       "        [ 9.81500000e+01,  2.80000000e+00,  5.00000000e-01,\n",
       "          8.66025404e-01,  6.54060856e-01,  7.56441932e-01],\n",
       "        [ 9.81200000e+01,  2.87000000e+00,  7.07106781e-01,\n",
       "          7.07106781e-01,  6.54602892e-01,  7.55972919e-01],\n",
       "        [ 9.81000000e+01,  2.98000000e+00,  8.66025404e-01,\n",
       "          5.00000000e-01,  6.55144592e-01,  7.55503517e-01]],\n",
       "\n",
       "       [[ 9.82000000e+01,  2.59000000e+00,  2.58819045e-01,\n",
       "          9.65925826e-01,  6.53518484e-01,  7.56910557e-01],\n",
       "        [ 9.81500000e+01,  2.80000000e+00,  5.00000000e-01,\n",
       "          8.66025404e-01,  6.54060856e-01,  7.56441932e-01],\n",
       "        [ 9.81200000e+01,  2.87000000e+00,  7.07106781e-01,\n",
       "          7.07106781e-01,  6.54602892e-01,  7.55972919e-01],\n",
       "        [ 9.81000000e+01,  2.98000000e+00,  8.66025404e-01,\n",
       "          5.00000000e-01,  6.55144592e-01,  7.55503517e-01],\n",
       "        [ 9.80900000e+01,  3.05000000e+00,  9.65925826e-01,\n",
       "          2.58819045e-01,  6.55685955e-01,  7.55033726e-01]]])"
      ]
     },
     "execution_count": 80,
     "metadata": {},
     "output_type": "execute_result"
    }
   ],
   "source": [
    "X_val[0:2]"
   ]
  },
  {
   "cell_type": "code",
   "execution_count": 77,
   "id": "c7626271",
   "metadata": {},
   "outputs": [
    {
     "name": "stdout",
     "output_type": "stream",
     "text": [
      "  35/1065 [..............................] - ETA: 3s"
     ]
    },
    {
     "name": "stderr",
     "output_type": "stream",
     "text": [
      "2022-08-08 11:30:23.451025: I tensorflow/core/grappler/optimizers/custom_graph_optimizer_registry.cc:113] Plugin optimizer for device_type GPU is enabled.\n",
      "2022-08-08 11:30:23.488203: I tensorflow/core/grappler/optimizers/custom_graph_optimizer_registry.cc:113] Plugin optimizer for device_type GPU is enabled.\n"
     ]
    },
    {
     "name": "stdout",
     "output_type": "stream",
     "text": [
      "1065/1065 [==============================] - 3s 2ms/step\n"
     ]
    },
    {
     "data": {
      "text/html": [
       "<div>\n",
       "<style scoped>\n",
       "    .dataframe tbody tr th:only-of-type {\n",
       "        vertical-align: middle;\n",
       "    }\n",
       "\n",
       "    .dataframe tbody tr th {\n",
       "        vertical-align: top;\n",
       "    }\n",
       "\n",
       "    .dataframe thead th {\n",
       "        text-align: right;\n",
       "    }\n",
       "</style>\n",
       "<table border=\"1\" class=\"dataframe\">\n",
       "  <thead>\n",
       "    <tr style=\"text-align: right;\">\n",
       "      <th></th>\n",
       "      <th>Temperature Predictions</th>\n",
       "      <th>Temperature Actuals</th>\n",
       "      <th>Pressure Predictions</th>\n",
       "      <th>Pressure Actuals</th>\n",
       "    </tr>\n",
       "  </thead>\n",
       "  <tbody>\n",
       "    <tr>\n",
       "      <th>0</th>\n",
       "      <td>3.056206</td>\n",
       "      <td>3.05</td>\n",
       "      <td>97.956696</td>\n",
       "      <td>98.09</td>\n",
       "    </tr>\n",
       "    <tr>\n",
       "      <th>1</th>\n",
       "      <td>3.133051</td>\n",
       "      <td>2.94</td>\n",
       "      <td>98.009903</td>\n",
       "      <td>98.10</td>\n",
       "    </tr>\n",
       "    <tr>\n",
       "      <th>2</th>\n",
       "      <td>4.140516</td>\n",
       "      <td>3.63</td>\n",
       "      <td>98.097557</td>\n",
       "      <td>98.11</td>\n",
       "    </tr>\n",
       "    <tr>\n",
       "      <th>3</th>\n",
       "      <td>5.724811</td>\n",
       "      <td>5.87</td>\n",
       "      <td>98.093536</td>\n",
       "      <td>98.10</td>\n",
       "    </tr>\n",
       "    <tr>\n",
       "      <th>4</th>\n",
       "      <td>8.149052</td>\n",
       "      <td>7.76</td>\n",
       "      <td>98.042885</td>\n",
       "      <td>98.09</td>\n",
       "    </tr>\n",
       "    <tr>\n",
       "      <th>...</th>\n",
       "      <td>...</td>\n",
       "      <td>...</td>\n",
       "      <td>...</td>\n",
       "      <td>...</td>\n",
       "    </tr>\n",
       "    <tr>\n",
       "      <th>34070</th>\n",
       "      <td>12.296421</td>\n",
       "      <td>12.30</td>\n",
       "      <td>99.053001</td>\n",
       "      <td>99.14</td>\n",
       "    </tr>\n",
       "    <tr>\n",
       "      <th>34071</th>\n",
       "      <td>11.552103</td>\n",
       "      <td>12.08</td>\n",
       "      <td>98.967926</td>\n",
       "      <td>99.15</td>\n",
       "    </tr>\n",
       "    <tr>\n",
       "      <th>34072</th>\n",
       "      <td>11.683060</td>\n",
       "      <td>11.65</td>\n",
       "      <td>98.915634</td>\n",
       "      <td>99.15</td>\n",
       "    </tr>\n",
       "    <tr>\n",
       "      <th>34073</th>\n",
       "      <td>11.214109</td>\n",
       "      <td>11.52</td>\n",
       "      <td>98.965271</td>\n",
       "      <td>99.14</td>\n",
       "    </tr>\n",
       "    <tr>\n",
       "      <th>34074</th>\n",
       "      <td>11.329975</td>\n",
       "      <td>11.51</td>\n",
       "      <td>98.893150</td>\n",
       "      <td>99.13</td>\n",
       "    </tr>\n",
       "  </tbody>\n",
       "</table>\n",
       "<p>34075 rows × 4 columns</p>\n",
       "</div>"
      ],
      "text/plain": [
       "       Temperature Predictions  Temperature Actuals  Pressure Predictions  \\\n",
       "0                     3.056206                 3.05             97.956696   \n",
       "1                     3.133051                 2.94             98.009903   \n",
       "2                     4.140516                 3.63             98.097557   \n",
       "3                     5.724811                 5.87             98.093536   \n",
       "4                     8.149052                 7.76             98.042885   \n",
       "...                        ...                  ...                   ...   \n",
       "34070                12.296421                12.30             99.053001   \n",
       "34071                11.552103                12.08             98.967926   \n",
       "34072                11.683060                11.65             98.915634   \n",
       "34073                11.214109                11.52             98.965271   \n",
       "34074                11.329975                11.51             98.893150   \n",
       "\n",
       "       Pressure Actuals  \n",
       "0                 98.09  \n",
       "1                 98.10  \n",
       "2                 98.11  \n",
       "3                 98.10  \n",
       "4                 98.09  \n",
       "...                 ...  \n",
       "34070             99.14  \n",
       "34071             99.15  \n",
       "34072             99.15  \n",
       "34073             99.14  \n",
       "34074             99.13  \n",
       "\n",
       "[34075 rows x 4 columns]"
      ]
     },
     "execution_count": 77,
     "metadata": {},
     "output_type": "execute_result"
    }
   ],
   "source": [
    "model12_loaded = load_model(\"model12/\")\n",
    "train_predictions, train_results= get_predictions(\n",
    "    model12_loaded, X_val, y_val)\n",
    "train_results"
   ]
  },
  {
   "cell_type": "code",
   "execution_count": 78,
   "id": "f8942029",
   "metadata": {},
   "outputs": [
    {
     "data": {
      "text/plain": [
       "[<matplotlib.lines.Line2D at 0x28c3d5400>]"
      ]
     },
     "execution_count": 78,
     "metadata": {},
     "output_type": "execute_result"
    },
    {
     "data": {
      "image/png": "[encoded data removed]",
      "text/plain": [
       "<Figure size 432x288 with 1 Axes>"
      ]
     },
     "metadata": {
      "needs_background": "light"
     },
     "output_type": "display_data"
    }
   ],
   "source": [
    "plt.plot(train_results['Temperature Predictions'][50:100])\n",
    "plt.plot(train_results['Temperature Actuals'][50:100])"
   ]
  },
  {
   "cell_type": "code",
   "execution_count": null,
   "id": "85ce0c64",
   "metadata": {},
   "outputs": [],
   "source": []
  }
 ],
 "metadata": {
  "kernelspec": {
   "display_name": "Python 3 (ipykernel)",
   "language": "python",
   "name": "python3"
  },
  "language_info": {
   "codemirror_mode": {
    "name": "ipython",
    "version": 3
   },
   "file_extension": ".py",
   "mimetype": "text/x-python",
   "name": "python",
   "nbconvert_exporter": "python",
   "pygments_lexer": "ipython3",
   "version": "3.8.13"
  }
 },
 "nbformat": 4,
 "nbformat_minor": 5
}
