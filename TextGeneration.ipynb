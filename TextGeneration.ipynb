{
 "cells": [
  {
   "cell_type": "raw",
   "id": "9859c21e",
   "metadata": {},
   "source": [
    "# NLP Generating Text \n",
    "\n",
    "Notebook to prepare the tensorflow Certified Developer. \n",
    "\n",
    "Dataset from: \n",
    "first: \n",
    "https://www.kaggle.com/competitions/sentiment-analysis-on-movie-reviews/data\n",
    "\n",
    "second: \n",
    "https://www.kaggle.com/code/roblexnana/generating-text-for-nlp-using-simplernn-with/data\n"
   ]
  },
  {
   "cell_type": "markdown",
   "id": "f15e105a",
   "metadata": {},
   "source": [
    "## Import libraries"
   ]
  },
  {
   "cell_type": "code",
   "execution_count": 1,
   "id": "8dd4d816",
   "metadata": {},
   "outputs": [
    {
     "name": "stdout",
     "output_type": "stream",
     "text": [
      "2.9.0\n"
     ]
    }
   ],
   "source": [
    "#First steep is import the libraries. \n",
    "import tensorflow as tf\n",
    "tf.random.set_seed(42)\n",
    "#Numpy is a lybrary that allow us to work with arrays. \n",
    "import numpy as np\n",
    "#keras is an open source neural networks lybrary writted in python that run's in varios frameworks, TensorFlow included. \n",
    "from tensorflow import keras\n",
    "import matplotlib.pyplot as plt\n",
    "import pandas as pd\n",
    "import csv\n",
    "\n",
    "from tensorflow.keras.preprocessing.text import Tokenizer\n",
    "from tensorflow.keras.preprocessing.sequence import pad_sequences\n",
    "from scipy.stats import linregress\n",
    "\n",
    "#Tranfer learning from tensorhub\n",
    "import tensorflow_hub as hub\n",
    "\n",
    "print (tf.__version__)\n",
    "\n",
    "gEpochs = 100"
   ]
  },
  {
   "cell_type": "markdown",
   "id": "cbac319b",
   "metadata": {},
   "source": [
    "# Functions\n"
   ]
  },
  {
   "cell_type": "code",
   "execution_count": 2,
   "id": "ca30d4f0",
   "metadata": {},
   "outputs": [],
   "source": [
    "#clear the text \n",
    "import re\n",
    "def cleanText(text):\n",
    "    whitespace = re.compile(r\"\\s+\")\n",
    "    web_address = re.compile(r\"(?i)http(s):\\/\\/[a-z0-9.~_\\-\\/]+\")\n",
    "    user = re.compile(r\"(?i)@[a-z0-9_]+\")\n",
    "    text = whitespace.sub(' ', text)\n",
    "    text = web_address.sub('', text)\n",
    "    text = user.sub('', text)\n",
    "    text = re.sub(r\"\\[[^()]*\\]\", \"\", text)\n",
    "    text = re.sub(\"\\d+\", \"\", text)\n",
    "    text = re.sub(r'[^\\w\\s]','',text)\n",
    "    text = re.sub(r\"(?:@\\S*|#\\S*|http(?=.*://)\\S*)\", \"\", text)\n",
    "    return text.lower()"
   ]
  },
  {
   "cell_type": "code",
   "execution_count": 3,
   "id": "6c49d155",
   "metadata": {},
   "outputs": [],
   "source": [
    "def get_model(kindmodel):\n",
    "    switcher = {\n",
    "        #FLATTEN\n",
    "        #38s 35ms/step - loss: 0.3960 - accuracy: 0.8109 - val_loss: 1.2877 - val_accuracy: 0.6138\n",
    "        0:tf.keras.models.Sequential([\n",
    "              tf.keras.layers.Embedding(total_words, embedding_dim, input_length=max_sequence_len-1),\n",
    "              tf.keras.layers.Bidirectional(tf.keras.layers.LSTM(lstm_units)),\n",
    "              tf.keras.layers.Dense(total_words, activation='softmax')]), \n",
    "        1:tf.keras.models.Sequential([\n",
    "            tf.keras.layers.Embedding(total_words, embedding_dim, input_length=max_sequence_len-1), \n",
    "            tf.keras.layers.LSTM(100), \n",
    "            tf.keras.layers.Dropout(0.1), \n",
    "            tf.keras.layers.Dense(total_words, activation='softmax')]),\n",
    "        \n",
    "    }\n",
    "    return switcher.get(kindmodel, None)"
   ]
  },
  {
   "cell_type": "code",
   "execution_count": 4,
   "id": "1539647b",
   "metadata": {},
   "outputs": [],
   "source": [
    "\n",
    "def plot_loss_acc(history, validation=True):\n",
    "    \n",
    "    '''Plots the training and validation loss and accuracy from a history object'''\n",
    "    if (validation):\n",
    "        acc = history.history['accuracy']\n",
    "        val_acc = history.history['val_accuracy']\n",
    "        loss = history.history['loss']\n",
    "        val_loss = history.history['val_loss']\n",
    "\n",
    "        epochs = range(len(acc))\n",
    "\n",
    "        plt.plot(epochs, acc, 'bo-', label='Training accuracy')\n",
    "        plt.plot(epochs, val_acc, 'go-', label='Validation accuracy')\n",
    "        plt.title('Training and validation accuracy')\n",
    "        plt.legend()\n",
    "\n",
    "        plt.figure()\n",
    "\n",
    "        plt.plot(epochs, loss, 'bo-', label='Training Loss')\n",
    "        plt.plot(epochs, val_loss, 'go-', label='Validation Loss')\n",
    "        plt.title('Training and validation loss')\n",
    "        plt.legend()\n",
    "\n",
    "        plt.show()\n",
    "    else:\n",
    "        acc = history.history['accuracy']\n",
    "       \n",
    "        loss = history.history['loss']\n",
    "\n",
    "\n",
    "        epochs = range(len(acc))\n",
    "\n",
    "        plt.plot(epochs, acc, 'bo-', label='Training accuracy')\n",
    "\n",
    "        plt.title('Training accuracy')\n",
    "        plt.legend()\n",
    "\n",
    "        plt.figure()\n",
    "\n",
    "\n",
    "        plt.plot(epochs, loss, 'bo-', label='Training Loss')\n",
    "        plt.title('Training and  loss')\n",
    "        plt.legend()\n",
    "\n",
    "        plt.show() "
   ]
  },
  {
   "cell_type": "code",
   "execution_count": 5,
   "id": "b977b4d4",
   "metadata": {},
   "outputs": [],
   "source": [
    "def generate_text(seed_text, next_words, model, max_sequence_len):\n",
    "    output_word = \"\"\n",
    "    \n",
    "    for _ in range(next_words):\n",
    "        token_list = tokenizer.texts_to_sequences([seed_text])[0]\n",
    "        token_list = pad_sequences([token_list], maxlen=max_sequence_len-1, padding='pre')\n",
    "        \n",
    "        probabilities = model.predict(token_list, verbose=0)\n",
    "        \n",
    "        predicted = np.argmax(probabilities, axis=-1)[0]\n",
    "        \n",
    "        print (predicted)\n",
    "        if predicted != 0:\n",
    "            output_word = tokenizer.index_word[predicted]\n",
    "            seed_text += \" \"+output_word\n",
    "    return seed_text"
   ]
  },
  {
   "cell_type": "code",
   "execution_count": 6,
   "id": "c5f101b0",
   "metadata": {},
   "outputs": [],
   "source": [
    "def opentxt(file):\n",
    "    data = open(file).read()\n",
    "    corpus = data.lower().split(\"\\n\")\n",
    "    return corpus\n"
   ]
  },
  {
   "cell_type": "markdown",
   "id": "70f3c600",
   "metadata": {},
   "source": [
    "### prepare the data for the model"
   ]
  },
  {
   "cell_type": "code",
   "execution_count": 7,
   "id": "578eefaa",
   "metadata": {},
   "outputs": [
    {
     "name": "stdout",
     "output_type": "stream",
     "text": [
      "--2022-08-01 18:16:10--  https://storage.googleapis.com/tensorflow-1-public/course3/irish-lyrics-eof.txt\n",
      "Resolving storage.googleapis.com (storage.googleapis.com)... 172.217.17.16, 216.58.215.176, 142.250.200.112, ...\n",
      "Connecting to storage.googleapis.com (storage.googleapis.com)|172.217.17.16|:443... connected.\n",
      "HTTP request sent, awaiting response... 200 OK\n",
      "Length: 68970 (67K) [text/plain]\n",
      "Saving to: ‘irish-lyrics-eof.txt’\n",
      "\n",
      "irish-lyrics-eof.tx 100%[===================>]  67,35K  --.-KB/s    in 0,03s   \n",
      "\n",
      "2022-08-01 18:16:10 (2,30 MB/s) - ‘irish-lyrics-eof.txt’ saved [68970/68970]\n",
      "\n"
     ]
    }
   ],
   "source": [
    "# Download the dataset\n",
    "!wget https://storage.googleapis.com/tensorflow-1-public/course3/irish-lyrics-eof.txt\n"
   ]
  },
  {
   "cell_type": "code",
   "execution_count": 8,
   "id": "1793cee2",
   "metadata": {},
   "outputs": [],
   "source": [
    "!mv irish-lyrics-eof.txt ./Data/irish-lyrics-eof.txt"
   ]
  },
  {
   "cell_type": "code",
   "execution_count": 9,
   "id": "0fc30e29",
   "metadata": {
    "scrolled": true
   },
   "outputs": [
    {
     "name": "stdout",
     "output_type": "stream",
     "text": [
      "[\"alice's adventures in wonderland\", '', \"                alice's adventures in wonderland\", '', '                          lewis carroll']\n"
     ]
    }
   ],
   "source": [
    "#corpus = opentxt('./Data/irish-lyrics-eof.txt')\n",
    "corpus = opentxt('./Data/Alice.txt')#\n",
    "\n",
    "print(corpus[:5])"
   ]
  },
  {
   "cell_type": "code",
   "execution_count": 10,
   "id": "5bd9ec6b",
   "metadata": {},
   "outputs": [],
   "source": [
    "# Parameters for padding and OOV tokens\n",
    "trunc_type='post'\n",
    "padding_type='post'\n",
    "oov_tok = \"<OOV>\"\n",
    "\n",
    "vocab_size = 5700\n",
    "max_length = 48\n",
    "embedding_dim = 100\n",
    "lstm_units = 150\n",
    "learning_rate = 0.01\n"
   ]
  },
  {
   "cell_type": "code",
   "execution_count": 11,
   "id": "b59a5687",
   "metadata": {},
   "outputs": [
    {
     "name": "stdout",
     "output_type": "stream",
     "text": [
      "number of words in word_index: 2646\n",
      "2647\n"
     ]
    }
   ],
   "source": [
    "# Initialize the Tokenizer class\n",
    "tokenizer = Tokenizer(num_words = vocab_size)\n",
    "\n",
    "# Generate the word index dictionary for the training sentences\n",
    "tokenizer.fit_on_texts(corpus)\n",
    "word_index = tokenizer.word_index\n",
    "\n",
    "total_words = len(word_index) + 1\n",
    "\n",
    "print(f'number of words in word_index: {len(word_index)}')\n",
    "print (total_words)\n"
   ]
  },
  {
   "cell_type": "code",
   "execution_count": 12,
   "id": "9cb64aea",
   "metadata": {},
   "outputs": [
    {
     "name": "stdout",
     "output_type": "stream",
     "text": [
      "16\n"
     ]
    }
   ],
   "source": [
    "input_sequences = []\n",
    "\n",
    "for line in corpus: \n",
    "    clean_sequence = cleanText(line)\n",
    "    #clean_sequence = line\n",
    "     \n",
    "    token_list = tokenizer.texts_to_sequences([clean_sequence])[0]\n",
    "    for i in range(1, len(token_list)):\n",
    "        n_gram_sequence = token_list[:i+1]\n",
    "        \n",
    "        input_sequences.append(n_gram_sequence)\n",
    "    \n",
    "max_sequence_len = max([len(x) for x in input_sequences])\n",
    "    \n",
    "input_sequences = np.array(pad_sequences(input_sequences, maxlen=max_sequence_len, padding='pre'))\n",
    "    \n",
    "xs, labels = input_sequences[:,:-1],input_sequences[:,-1]\n",
    "\n",
    "ys = tf.keras.utils.to_categorical(labels, num_classes=total_words)\n",
    "print (max_sequence_len)\n",
    "    "
   ]
  },
  {
   "cell_type": "code",
   "execution_count": 13,
   "id": "16433734",
   "metadata": {},
   "outputs": [
    {
     "name": "stdout",
     "output_type": "stream",
     "text": [
      "[[   0    0    0 ...    0    0  423]\n",
      " [   0    0    0 ...    0  423   12]\n",
      " [   0    0    0 ...    0    0 1490]\n",
      " ...\n",
      " [   0    0    0 ...    3    1 2646]\n",
      " [   0    0    0 ...    1 2646 1471]\n",
      " [   0    0    0 ...    0    0    1]]\n"
     ]
    }
   ],
   "source": [
    "print (xs[2:])"
   ]
  },
  {
   "cell_type": "code",
   "execution_count": 14,
   "id": "0b85370d",
   "metadata": {},
   "outputs": [
    {
     "name": "stdout",
     "output_type": "stream",
     "text": [
      "token list: [  0   0   0   0   0   0   0   0   0   0   0   0   0 423  12]\n",
      "decoded to text: ['adventures in']\n",
      "one-hot label: [0. 0. 0. ... 0. 0. 0.]\n",
      "index of label: 699\n"
     ]
    }
   ],
   "source": [
    "# Pick element\n",
    "elem_number = 3\n",
    "\n",
    "\n",
    "# Print token list and phrase\n",
    "print(f'token list: {xs[elem_number]}')\n",
    "print(f'decoded to text: {tokenizer.sequences_to_texts([xs[elem_number]])}')\n",
    "\n",
    "# Print label\n",
    "print(f'one-hot label: {ys[elem_number]}')\n",
    "print(f'index of label: {np.argmax(ys[elem_number])}')"
   ]
  },
  {
   "cell_type": "markdown",
   "id": "27e30d53",
   "metadata": {},
   "source": [
    "\n",
    "# Training Models\n"
   ]
  },
  {
   "cell_type": "code",
   "execution_count": 15,
   "id": "2e591472",
   "metadata": {},
   "outputs": [
    {
     "name": "stdout",
     "output_type": "stream",
     "text": [
      "Metal device set to: Apple M1 Pro\n"
     ]
    },
    {
     "name": "stderr",
     "output_type": "stream",
     "text": [
      "2022-08-01 18:16:11.284167: I tensorflow/core/common_runtime/pluggable_device/pluggable_device_factory.cc:305] Could not identify NUMA node of platform GPU ID 0, defaulting to 0. Your kernel may not have been built with NUMA support.\n",
      "2022-08-01 18:16:11.284332: I tensorflow/core/common_runtime/pluggable_device/pluggable_device_factory.cc:271] Created TensorFlow device (/job:localhost/replica:0/task:0/device:GPU:0 with 0 MB memory) -> physical PluggableDevice (device: 0, name: METAL, pci bus id: <undefined>)\n"
     ]
    },
    {
     "name": "stdout",
     "output_type": "stream",
     "text": [
      "Model: \"sequential\"\n",
      "_________________________________________________________________\n",
      " Layer (type)                Output Shape              Param #   \n",
      "=================================================================\n",
      " embedding (Embedding)       (None, 15, 100)           264700    \n",
      "                                                                 \n",
      " bidirectional (Bidirectiona  (None, 300)              301200    \n",
      " l)                                                              \n",
      "                                                                 \n",
      " dense (Dense)               (None, 2647)              796747    \n",
      "                                                                 \n",
      "=================================================================\n",
      "Total params: 1,362,647\n",
      "Trainable params: 1,362,647\n",
      "Non-trainable params: 0\n",
      "_________________________________________________________________\n"
     ]
    }
   ],
   "source": [
    "model0 = get_model(0)\n",
    "\n",
    "model0.compile(\n",
    "    loss='categorical_crossentropy', \n",
    "    optimizer=tf.keras.optimizers.Adam(learning_rate=learning_rate), \n",
    "    metrics=['accuracy']\n",
    "    )\n",
    "\n",
    "# Print the model summary\n",
    "model0.summary()"
   ]
  },
  {
   "cell_type": "code",
   "execution_count": 16,
   "id": "3f667672",
   "metadata": {},
   "outputs": [
    {
     "name": "stdout",
     "output_type": "stream",
     "text": [
      "Epoch 1/100\n"
     ]
    },
    {
     "name": "stderr",
     "output_type": "stream",
     "text": [
      "2022-08-01 18:16:11.772807: W tensorflow/core/platform/profile_utils/cpu_utils.cc:128] Failed to get CPU frequency: 0 Hz\n",
      "2022-08-01 18:16:12.791069: I tensorflow/core/grappler/optimizers/custom_graph_optimizer_registry.cc:113] Plugin optimizer for device_type GPU is enabled.\n",
      "2022-08-01 18:16:12.964599: I tensorflow/core/grappler/optimizers/custom_graph_optimizer_registry.cc:113] Plugin optimizer for device_type GPU is enabled.\n",
      "2022-08-01 18:16:12.976033: I tensorflow/core/grappler/optimizers/custom_graph_optimizer_registry.cc:113] Plugin optimizer for device_type GPU is enabled.\n"
     ]
    },
    {
     "name": "stdout",
     "output_type": "stream",
     "text": [
      "\r",
      "  1/716 [..............................] - ETA: 17:20 - loss: 7.8823 - accuracy: 0.0000e+00"
     ]
    },
    {
     "name": "stderr",
     "output_type": "stream",
     "text": [
      "2022-08-01 18:16:13.084126: I tensorflow/core/grappler/optimizers/custom_graph_optimizer_registry.cc:113] Plugin optimizer for device_type GPU is enabled.\n",
      "2022-08-01 18:16:13.110231: I tensorflow/core/grappler/optimizers/custom_graph_optimizer_registry.cc:113] Plugin optimizer for device_type GPU is enabled.\n"
     ]
    },
    {
     "name": "stdout",
     "output_type": "stream",
     "text": [
      "716/716 [==============================] - 17s 21ms/step - loss: 5.7662 - accuracy: 0.0932\n",
      "Epoch 2/100\n",
      "716/716 [==============================] - 15s 21ms/step - loss: 4.9309 - accuracy: 0.1448\n",
      "Epoch 3/100\n",
      "716/716 [==============================] - 15s 21ms/step - loss: 4.4023 - accuracy: 0.1766\n",
      "Epoch 4/100\n",
      "716/716 [==============================] - 15s 21ms/step - loss: 4.1300 - accuracy: 0.1967\n",
      "Epoch 5/100\n",
      "716/716 [==============================] - 15s 21ms/step - loss: 3.5887 - accuracy: 0.2375\n",
      "Epoch 6/100\n",
      "716/716 [==============================] - 15s 21ms/step - loss: 3.2151 - accuracy: 0.2814\n",
      "Epoch 7/100\n",
      "716/716 [==============================] - 15s 21ms/step - loss: 2.9297 - accuracy: 0.3174\n",
      "Epoch 8/100\n",
      "716/716 [==============================] - 15s 21ms/step - loss: 2.6931 - accuracy: 0.3558\n",
      "Epoch 9/100\n",
      "716/716 [==============================] - 15s 21ms/step - loss: 2.5270 - accuracy: 0.3849\n",
      "Epoch 10/100\n",
      "716/716 [==============================] - 15s 21ms/step - loss: 2.3662 - accuracy: 0.4132\n",
      "Epoch 11/100\n",
      "716/716 [==============================] - 15s 21ms/step - loss: 2.2460 - accuracy: 0.4372\n",
      "Epoch 12/100\n",
      "716/716 [==============================] - 15s 21ms/step - loss: 2.1625 - accuracy: 0.4519\n",
      "Epoch 13/100\n",
      "716/716 [==============================] - 15s 21ms/step - loss: 2.0909 - accuracy: 0.4636\n",
      "Epoch 14/100\n",
      "716/716 [==============================] - 15s 21ms/step - loss: 2.0039 - accuracy: 0.4784\n",
      "Epoch 15/100\n",
      "716/716 [==============================] - 15s 21ms/step - loss: 1.9258 - accuracy: 0.4993\n",
      "Epoch 16/100\n",
      "716/716 [==============================] - 15s 21ms/step - loss: 1.9219 - accuracy: 0.4993\n",
      "Epoch 17/100\n",
      "716/716 [==============================] - 15s 21ms/step - loss: 1.9260 - accuracy: 0.4962\n",
      "Epoch 18/100\n",
      "716/716 [==============================] - 15s 21ms/step - loss: 1.8531 - accuracy: 0.5091\n",
      "Epoch 19/100\n",
      "716/716 [==============================] - 15s 21ms/step - loss: 1.8219 - accuracy: 0.5173\n",
      "Epoch 20/100\n",
      "716/716 [==============================] - 15s 21ms/step - loss: 1.8032 - accuracy: 0.5193\n",
      "Epoch 21/100\n",
      "716/716 [==============================] - 15s 21ms/step - loss: 1.7872 - accuracy: 0.5275\n",
      "Epoch 22/100\n",
      "716/716 [==============================] - 15s 21ms/step - loss: 1.7637 - accuracy: 0.5347\n",
      "Epoch 23/100\n",
      "716/716 [==============================] - 15s 21ms/step - loss: 1.7454 - accuracy: 0.5390\n",
      "Epoch 24/100\n",
      "716/716 [==============================] - 15s 21ms/step - loss: 1.7364 - accuracy: 0.5378\n",
      "Epoch 25/100\n",
      "716/716 [==============================] - 15s 21ms/step - loss: 1.7370 - accuracy: 0.5356\n",
      "Epoch 26/100\n",
      "716/716 [==============================] - 15s 21ms/step - loss: 1.8084 - accuracy: 0.5233\n",
      "Epoch 27/100\n",
      "716/716 [==============================] - 15s 21ms/step - loss: 1.7518 - accuracy: 0.5357\n",
      "Epoch 28/100\n",
      "716/716 [==============================] - 15s 21ms/step - loss: 1.7025 - accuracy: 0.5450\n",
      "Epoch 29/100\n",
      "716/716 [==============================] - 15s 21ms/step - loss: 1.7111 - accuracy: 0.5405\n",
      "Epoch 30/100\n",
      "716/716 [==============================] - 15s 21ms/step - loss: 1.7434 - accuracy: 0.5343\n",
      "Epoch 31/100\n",
      "716/716 [==============================] - 15s 21ms/step - loss: 1.7218 - accuracy: 0.5416\n",
      "Epoch 32/100\n",
      "716/716 [==============================] - 15s 21ms/step - loss: 1.7005 - accuracy: 0.5436\n",
      "Epoch 33/100\n",
      "716/716 [==============================] - 15s 21ms/step - loss: 1.6885 - accuracy: 0.5451\n",
      "Epoch 34/100\n",
      "716/716 [==============================] - 15s 21ms/step - loss: 1.6721 - accuracy: 0.5507\n",
      "Epoch 35/100\n",
      "716/716 [==============================] - 15s 21ms/step - loss: 1.7029 - accuracy: 0.5440\n",
      "Epoch 36/100\n",
      "716/716 [==============================] - 15s 21ms/step - loss: 1.6905 - accuracy: 0.5459\n",
      "Epoch 37/100\n",
      "716/716 [==============================] - 15s 21ms/step - loss: 1.6974 - accuracy: 0.5450\n",
      "Epoch 38/100\n",
      "716/716 [==============================] - 15s 21ms/step - loss: 1.6753 - accuracy: 0.5467\n",
      "Epoch 39/100\n",
      "716/716 [==============================] - 15s 21ms/step - loss: 1.6500 - accuracy: 0.5537\n",
      "Epoch 40/100\n",
      "716/716 [==============================] - 15s 21ms/step - loss: 1.6870 - accuracy: 0.5500\n",
      "Epoch 41/100\n",
      "716/716 [==============================] - 15s 21ms/step - loss: 1.6940 - accuracy: 0.5441\n",
      "Epoch 42/100\n",
      "716/716 [==============================] - 15s 21ms/step - loss: 1.7295 - accuracy: 0.5372\n",
      "Epoch 43/100\n",
      "716/716 [==============================] - 15s 21ms/step - loss: 1.6656 - accuracy: 0.5462\n",
      "Epoch 44/100\n",
      "716/716 [==============================] - 15s 21ms/step - loss: 1.7181 - accuracy: 0.5383\n",
      "Epoch 45/100\n",
      "716/716 [==============================] - 15s 21ms/step - loss: 1.6992 - accuracy: 0.5451\n",
      "Epoch 46/100\n",
      "716/716 [==============================] - 15s 21ms/step - loss: 1.7068 - accuracy: 0.5414\n",
      "Epoch 47/100\n",
      "716/716 [==============================] - 15s 21ms/step - loss: 1.6890 - accuracy: 0.5460\n",
      "Epoch 48/100\n",
      "716/716 [==============================] - 15s 21ms/step - loss: 1.6852 - accuracy: 0.5482\n",
      "Epoch 49/100\n",
      "716/716 [==============================] - 15s 21ms/step - loss: 1.7174 - accuracy: 0.5413\n",
      "Epoch 50/100\n",
      "716/716 [==============================] - 15s 21ms/step - loss: 1.6960 - accuracy: 0.5440\n",
      "Epoch 51/100\n",
      "716/716 [==============================] - 15s 21ms/step - loss: 1.6434 - accuracy: 0.5554\n",
      "Epoch 52/100\n",
      "716/716 [==============================] - 15s 21ms/step - loss: 1.6530 - accuracy: 0.5526\n",
      "Epoch 53/100\n",
      "716/716 [==============================] - 15s 21ms/step - loss: 1.6648 - accuracy: 0.5507\n",
      "Epoch 54/100\n",
      "716/716 [==============================] - 15s 21ms/step - loss: 1.6669 - accuracy: 0.5491\n",
      "Epoch 55/100\n",
      "716/716 [==============================] - 15s 21ms/step - loss: 1.6576 - accuracy: 0.5539\n",
      "Epoch 56/100\n",
      "716/716 [==============================] - 15s 21ms/step - loss: 1.6353 - accuracy: 0.5560\n",
      "Epoch 57/100\n",
      "716/716 [==============================] - 15s 21ms/step - loss: 1.6508 - accuracy: 0.5559\n",
      "Epoch 58/100\n",
      "716/716 [==============================] - 15s 21ms/step - loss: 1.6631 - accuracy: 0.5524\n",
      "Epoch 59/100\n",
      "716/716 [==============================] - 15s 21ms/step - loss: 1.7368 - accuracy: 0.5384\n",
      "Epoch 60/100\n",
      "716/716 [==============================] - 15s 21ms/step - loss: 1.6990 - accuracy: 0.5464\n",
      "Epoch 61/100\n",
      "716/716 [==============================] - 15s 21ms/step - loss: 1.7090 - accuracy: 0.5418\n",
      "Epoch 62/100\n",
      "716/716 [==============================] - 15s 21ms/step - loss: 1.6602 - accuracy: 0.5548\n",
      "Epoch 63/100\n",
      "716/716 [==============================] - 15s 21ms/step - loss: 1.6555 - accuracy: 0.5536\n",
      "Epoch 64/100\n",
      "716/716 [==============================] - 15s 21ms/step - loss: 1.7445 - accuracy: 0.5387\n",
      "Epoch 65/100\n",
      "716/716 [==============================] - 15s 21ms/step - loss: 1.7048 - accuracy: 0.5486\n",
      "Epoch 66/100\n",
      "716/716 [==============================] - 15s 21ms/step - loss: 1.7039 - accuracy: 0.5477\n",
      "Epoch 67/100\n",
      "716/716 [==============================] - 15s 21ms/step - loss: 1.6450 - accuracy: 0.5602\n",
      "Epoch 68/100\n",
      "716/716 [==============================] - 15s 21ms/step - loss: 1.6394 - accuracy: 0.5581\n",
      "Epoch 69/100\n",
      "716/716 [==============================] - 15s 21ms/step - loss: 1.6651 - accuracy: 0.5544\n",
      "Epoch 70/100\n",
      "716/716 [==============================] - 15s 21ms/step - loss: 1.7927 - accuracy: 0.5454\n",
      "Epoch 71/100\n",
      "716/716 [==============================] - 15s 21ms/step - loss: 1.8517 - accuracy: 0.5187\n",
      "Epoch 72/100\n",
      "716/716 [==============================] - 15s 21ms/step - loss: 1.7390 - accuracy: 0.5426\n",
      "Epoch 73/100\n",
      "716/716 [==============================] - 15s 21ms/step - loss: 1.7091 - accuracy: 0.5426\n",
      "Epoch 74/100\n",
      "716/716 [==============================] - 15s 21ms/step - loss: 1.6837 - accuracy: 0.5492\n",
      "Epoch 75/100\n",
      "716/716 [==============================] - 15s 21ms/step - loss: 1.6429 - accuracy: 0.5596\n",
      "Epoch 76/100\n",
      "716/716 [==============================] - 15s 21ms/step - loss: 1.6431 - accuracy: 0.5583\n",
      "Epoch 77/100\n",
      "716/716 [==============================] - 15s 21ms/step - loss: 1.6407 - accuracy: 0.5583\n",
      "Epoch 78/100\n",
      "716/716 [==============================] - 15s 21ms/step - loss: 1.6652 - accuracy: 0.5561\n",
      "Epoch 79/100\n",
      "716/716 [==============================] - 15s 21ms/step - loss: 1.7123 - accuracy: 0.5431\n"
     ]
    },
    {
     "name": "stdout",
     "output_type": "stream",
     "text": [
      "Epoch 80/100\n",
      "716/716 [==============================] - 15s 21ms/step - loss: 1.6850 - accuracy: 0.5472\n",
      "Epoch 81/100\n",
      "716/716 [==============================] - 15s 21ms/step - loss: 1.7153 - accuracy: 0.5429\n",
      "Epoch 82/100\n",
      "716/716 [==============================] - 15s 21ms/step - loss: 1.7022 - accuracy: 0.5449\n",
      "Epoch 83/100\n",
      "716/716 [==============================] - 15s 21ms/step - loss: 1.7111 - accuracy: 0.5452\n",
      "Epoch 84/100\n",
      "716/716 [==============================] - 15s 21ms/step - loss: 1.6708 - accuracy: 0.5537\n",
      "Epoch 85/100\n",
      "716/716 [==============================] - 15s 21ms/step - loss: 1.6665 - accuracy: 0.5557\n",
      "Epoch 86/100\n",
      "716/716 [==============================] - 15s 21ms/step - loss: 1.6835 - accuracy: 0.5535\n",
      "Epoch 87/100\n",
      "716/716 [==============================] - 15s 21ms/step - loss: 1.6700 - accuracy: 0.5537\n",
      "Epoch 88/100\n",
      "716/716 [==============================] - 15s 21ms/step - loss: 1.6670 - accuracy: 0.5553\n",
      "Epoch 89/100\n",
      "716/716 [==============================] - 15s 21ms/step - loss: 1.6726 - accuracy: 0.5528\n",
      "Epoch 90/100\n",
      "716/716 [==============================] - 15s 21ms/step - loss: 1.6645 - accuracy: 0.5538\n",
      "Epoch 91/100\n",
      "716/716 [==============================] - 15s 21ms/step - loss: 1.6585 - accuracy: 0.5566\n",
      "Epoch 92/100\n",
      "716/716 [==============================] - 15s 21ms/step - loss: 1.7063 - accuracy: 0.5453\n",
      "Epoch 93/100\n",
      "716/716 [==============================] - 15s 21ms/step - loss: 1.6783 - accuracy: 0.5499\n",
      "Epoch 94/100\n",
      "716/716 [==============================] - 15s 21ms/step - loss: 1.6662 - accuracy: 0.5569\n",
      "Epoch 95/100\n",
      "716/716 [==============================] - 15s 21ms/step - loss: 1.6889 - accuracy: 0.5528\n",
      "Epoch 96/100\n",
      "716/716 [==============================] - 15s 21ms/step - loss: 1.7115 - accuracy: 0.5476\n",
      "Epoch 97/100\n",
      "716/716 [==============================] - 15s 21ms/step - loss: 1.7634 - accuracy: 0.5436\n",
      "Epoch 98/100\n",
      "716/716 [==============================] - 15s 21ms/step - loss: 1.7064 - accuracy: 0.5496\n",
      "Epoch 99/100\n",
      "716/716 [==============================] - 15s 21ms/step - loss: 1.6693 - accuracy: 0.5570\n",
      "Epoch 100/100\n",
      "716/716 [==============================] - 15s 21ms/step - loss: 1.6552 - accuracy: 0.5620\n"
     ]
    }
   ],
   "source": [
    "history0 = model0.fit(xs, ys, epochs=gEpochs)"
   ]
  },
  {
   "cell_type": "code",
   "execution_count": 17,
   "id": "9bbc95ae",
   "metadata": {},
   "outputs": [
    {
     "data": {
      "image/png": "[encoded data removed]",
      "text/plain": [
       "<Figure size 432x288 with 1 Axes>"
      ]
     },
     "metadata": {
      "needs_background": "light"
     },
     "output_type": "display_data"
    },
    {
     "data": {
      "image/png": "[encoded data removed]",
      "text/plain": [
       "<Figure size 432x288 with 1 Axes>"
      ]
     },
     "metadata": {
      "needs_background": "light"
     },
     "output_type": "display_data"
    }
   ],
   "source": [
    "plot_loss_acc(history0, False)"
   ]
  },
  {
   "cell_type": "code",
   "execution_count": 18,
   "id": "8e5a3ac5",
   "metadata": {},
   "outputs": [
    {
     "name": "stdout",
     "output_type": "stream",
     "text": [
      "Model: \"sequential_3\"\n",
      "_________________________________________________________________\n",
      " Layer (type)                Output Shape              Param #   \n",
      "=================================================================\n",
      " embedding_3 (Embedding)     (None, 15, 100)           264700    \n",
      "                                                                 \n",
      " lstm_3 (LSTM)               (None, 100)               80400     \n",
      "                                                                 \n",
      " dropout_1 (Dropout)         (None, 100)               0         \n",
      "                                                                 \n",
      " dense_3 (Dense)             (None, 2647)              267347    \n",
      "                                                                 \n",
      "=================================================================\n",
      "Total params: 612,447\n",
      "Trainable params: 612,447\n",
      "Non-trainable params: 0\n",
      "_________________________________________________________________\n"
     ]
    }
   ],
   "source": [
    "model1 = get_model(1)\n",
    "\n",
    "model1.compile(\n",
    "    loss='categorical_crossentropy', \n",
    "    optimizer=tf.keras.optimizers.Adam(learning_rate=learning_rate), \n",
    "    metrics=['accuracy']\n",
    "    )\n",
    "\n",
    "# Print the model summary\n",
    "model1.summary()"
   ]
  },
  {
   "cell_type": "code",
   "execution_count": 19,
   "id": "6b0d23b6",
   "metadata": {},
   "outputs": [
    {
     "name": "stdout",
     "output_type": "stream",
     "text": [
      "Epoch 1/100\n"
     ]
    },
    {
     "name": "stderr",
     "output_type": "stream",
     "text": [
      "2022-08-01 18:41:20.648280: I tensorflow/core/grappler/optimizers/custom_graph_optimizer_registry.cc:113] Plugin optimizer for device_type GPU is enabled.\n",
      "2022-08-01 18:41:20.753033: I tensorflow/core/grappler/optimizers/custom_graph_optimizer_registry.cc:113] Plugin optimizer for device_type GPU is enabled.\n",
      "2022-08-01 18:41:20.815954: I tensorflow/core/grappler/optimizers/custom_graph_optimizer_registry.cc:113] Plugin optimizer for device_type GPU is enabled.\n"
     ]
    },
    {
     "name": "stdout",
     "output_type": "stream",
     "text": [
      "716/716 [==============================] - 12s 15ms/step - loss: 5.7885 - accuracy: 0.0899\n",
      "Epoch 2/100\n",
      "716/716 [==============================] - 11s 15ms/step - loss: 5.0232 - accuracy: 0.1370\n",
      "Epoch 3/100\n",
      "716/716 [==============================] - 11s 15ms/step - loss: 4.5322 - accuracy: 0.1692\n",
      "Epoch 4/100\n",
      "716/716 [==============================] - 11s 15ms/step - loss: 4.1325 - accuracy: 0.1936\n",
      "Epoch 5/100\n",
      "716/716 [==============================] - 11s 15ms/step - loss: 3.8044 - accuracy: 0.2188\n",
      "Epoch 6/100\n",
      "716/716 [==============================] - 11s 15ms/step - loss: 3.5152 - accuracy: 0.2477\n",
      "Epoch 7/100\n",
      "716/716 [==============================] - 11s 15ms/step - loss: 3.2922 - accuracy: 0.2691\n",
      "Epoch 8/100\n",
      "716/716 [==============================] - 11s 15ms/step - loss: 3.1125 - accuracy: 0.2943\n",
      "Epoch 9/100\n",
      "716/716 [==============================] - 11s 15ms/step - loss: 2.9597 - accuracy: 0.3134\n",
      "Epoch 10/100\n",
      "716/716 [==============================] - 11s 15ms/step - loss: 2.8448 - accuracy: 0.3358\n",
      "Epoch 11/100\n",
      "716/716 [==============================] - 11s 15ms/step - loss: 2.7519 - accuracy: 0.3479\n",
      "Epoch 12/100\n",
      "716/716 [==============================] - 11s 15ms/step - loss: 2.6961 - accuracy: 0.3591\n",
      "Epoch 13/100\n",
      "716/716 [==============================] - 11s 15ms/step - loss: 2.6134 - accuracy: 0.3739\n",
      "Epoch 14/100\n",
      "716/716 [==============================] - 11s 15ms/step - loss: 2.5560 - accuracy: 0.3803\n",
      "Epoch 15/100\n",
      "716/716 [==============================] - 11s 16ms/step - loss: 2.5107 - accuracy: 0.3874\n",
      "Epoch 16/100\n",
      "716/716 [==============================] - 11s 15ms/step - loss: 2.4560 - accuracy: 0.3982\n",
      "Epoch 17/100\n",
      "716/716 [==============================] - 11s 15ms/step - loss: 2.4168 - accuracy: 0.4049\n",
      "Epoch 18/100\n",
      "716/716 [==============================] - 11s 15ms/step - loss: 2.3996 - accuracy: 0.4092\n",
      "Epoch 19/100\n",
      "716/716 [==============================] - 11s 15ms/step - loss: 2.4115 - accuracy: 0.4027\n",
      "Epoch 20/100\n",
      "716/716 [==============================] - 11s 15ms/step - loss: 2.3720 - accuracy: 0.4091\n",
      "Epoch 21/100\n",
      "716/716 [==============================] - 11s 15ms/step - loss: 2.3702 - accuracy: 0.4124\n",
      "Epoch 22/100\n",
      "716/716 [==============================] - 11s 15ms/step - loss: 2.3327 - accuracy: 0.4210\n",
      "Epoch 23/100\n",
      "716/716 [==============================] - 11s 15ms/step - loss: 2.3099 - accuracy: 0.4213\n",
      "Epoch 24/100\n",
      "716/716 [==============================] - 11s 15ms/step - loss: 2.3024 - accuracy: 0.4226\n",
      "Epoch 25/100\n",
      "716/716 [==============================] - 11s 15ms/step - loss: 2.2749 - accuracy: 0.4262\n",
      "Epoch 26/100\n",
      "716/716 [==============================] - 11s 15ms/step - loss: 2.2911 - accuracy: 0.4240\n",
      "Epoch 27/100\n",
      "716/716 [==============================] - 11s 15ms/step - loss: 2.2602 - accuracy: 0.4290\n",
      "Epoch 28/100\n",
      "716/716 [==============================] - 11s 15ms/step - loss: 2.2206 - accuracy: 0.4424\n",
      "Epoch 29/100\n",
      "716/716 [==============================] - 11s 15ms/step - loss: 2.2206 - accuracy: 0.4413\n",
      "Epoch 30/100\n",
      "716/716 [==============================] - 11s 15ms/step - loss: 2.2262 - accuracy: 0.4338\n",
      "Epoch 31/100\n",
      "716/716 [==============================] - 11s 15ms/step - loss: 2.2243 - accuracy: 0.4393\n",
      "Epoch 32/100\n",
      "716/716 [==============================] - 11s 15ms/step - loss: 2.2525 - accuracy: 0.4323\n",
      "Epoch 33/100\n",
      "716/716 [==============================] - 10s 15ms/step - loss: 2.2499 - accuracy: 0.4334\n",
      "Epoch 34/100\n",
      "716/716 [==============================] - 11s 15ms/step - loss: 2.2422 - accuracy: 0.4365\n",
      "Epoch 35/100\n",
      "716/716 [==============================] - 11s 15ms/step - loss: 2.2509 - accuracy: 0.4349\n",
      "Epoch 36/100\n",
      "716/716 [==============================] - 10s 15ms/step - loss: 2.2535 - accuracy: 0.4298\n",
      "Epoch 37/100\n",
      "716/716 [==============================] - 11s 15ms/step - loss: 2.2288 - accuracy: 0.4356\n",
      "Epoch 38/100\n",
      "716/716 [==============================] - 12s 16ms/step - loss: 2.2173 - accuracy: 0.4405\n",
      "Epoch 39/100\n",
      "716/716 [==============================] - 12s 16ms/step - loss: 2.2557 - accuracy: 0.4324\n",
      "Epoch 40/100\n",
      "716/716 [==============================] - 12s 16ms/step - loss: 2.2623 - accuracy: 0.4318\n",
      "Epoch 41/100\n",
      "716/716 [==============================] - 11s 16ms/step - loss: 2.2124 - accuracy: 0.4387\n",
      "Epoch 42/100\n",
      "716/716 [==============================] - 10s 15ms/step - loss: 2.1958 - accuracy: 0.4460\n",
      "Epoch 43/100\n",
      "716/716 [==============================] - 11s 15ms/step - loss: 2.2755 - accuracy: 0.4286\n",
      "Epoch 44/100\n",
      "716/716 [==============================] - 11s 15ms/step - loss: 2.2930 - accuracy: 0.4258\n",
      "Epoch 45/100\n",
      "716/716 [==============================] - 11s 15ms/step - loss: 2.2389 - accuracy: 0.4334\n",
      "Epoch 46/100\n",
      "716/716 [==============================] - 11s 15ms/step - loss: 2.2822 - accuracy: 0.4286\n",
      "Epoch 47/100\n",
      "716/716 [==============================] - 10s 14ms/step - loss: 2.2752 - accuracy: 0.4282\n",
      "Epoch 48/100\n",
      "716/716 [==============================] - 10s 15ms/step - loss: 2.2675 - accuracy: 0.4320\n",
      "Epoch 49/100\n",
      "716/716 [==============================] - 10s 14ms/step - loss: 2.2275 - accuracy: 0.4358\n",
      "Epoch 50/100\n",
      "716/716 [==============================] - 10s 14ms/step - loss: 2.2557 - accuracy: 0.4340\n",
      "Epoch 51/100\n",
      "716/716 [==============================] - 11s 15ms/step - loss: 2.2809 - accuracy: 0.4296\n",
      "Epoch 52/100\n",
      "716/716 [==============================] - 10s 15ms/step - loss: 2.2736 - accuracy: 0.4296\n",
      "Epoch 53/100\n",
      "716/716 [==============================] - 11s 16ms/step - loss: 2.2845 - accuracy: 0.4268\n",
      "Epoch 54/100\n",
      "716/716 [==============================] - 12s 16ms/step - loss: 2.2734 - accuracy: 0.4301\n",
      "Epoch 55/100\n",
      "716/716 [==============================] - 10s 14ms/step - loss: 2.2912 - accuracy: 0.4275\n",
      "Epoch 56/100\n",
      "716/716 [==============================] - 10s 14ms/step - loss: 2.2836 - accuracy: 0.4280\n",
      "Epoch 57/100\n",
      "716/716 [==============================] - 11s 15ms/step - loss: 2.2750 - accuracy: 0.4310\n",
      "Epoch 58/100\n",
      "716/716 [==============================] - 10s 14ms/step - loss: 2.2648 - accuracy: 0.4297\n",
      "Epoch 59/100\n",
      "716/716 [==============================] - 12s 16ms/step - loss: 2.2640 - accuracy: 0.4328\n",
      "Epoch 60/100\n",
      "716/716 [==============================] - 11s 16ms/step - loss: 2.2830 - accuracy: 0.4253\n",
      "Epoch 61/100\n",
      "716/716 [==============================] - 10s 14ms/step - loss: 2.2549 - accuracy: 0.4328\n",
      "Epoch 62/100\n",
      "716/716 [==============================] - 11s 16ms/step - loss: 2.2791 - accuracy: 0.4263\n",
      "Epoch 63/100\n",
      "716/716 [==============================] - 11s 15ms/step - loss: 2.2798 - accuracy: 0.4230\n",
      "Epoch 64/100\n",
      "716/716 [==============================] - 10s 14ms/step - loss: 2.2621 - accuracy: 0.4268\n",
      "Epoch 65/100\n",
      "716/716 [==============================] - 10s 15ms/step - loss: 2.2782 - accuracy: 0.4266\n",
      "Epoch 66/100\n",
      "716/716 [==============================] - 11s 15ms/step - loss: 2.2736 - accuracy: 0.4302\n",
      "Epoch 67/100\n",
      "716/716 [==============================] - 10s 14ms/step - loss: 2.2652 - accuracy: 0.4288\n",
      "Epoch 68/100\n",
      "716/716 [==============================] - 11s 15ms/step - loss: 2.2846 - accuracy: 0.4282\n",
      "Epoch 69/100\n",
      "716/716 [==============================] - 10s 14ms/step - loss: 2.2673 - accuracy: 0.4316\n",
      "Epoch 70/100\n",
      "716/716 [==============================] - 11s 15ms/step - loss: 2.2770 - accuracy: 0.4287\n",
      "Epoch 71/100\n",
      "716/716 [==============================] - 12s 16ms/step - loss: 2.3078 - accuracy: 0.4186\n",
      "Epoch 72/100\n",
      "716/716 [==============================] - 11s 15ms/step - loss: 2.2878 - accuracy: 0.4238\n",
      "Epoch 73/100\n",
      "716/716 [==============================] - 12s 16ms/step - loss: 2.2825 - accuracy: 0.4275\n",
      "Epoch 74/100\n",
      "716/716 [==============================] - 12s 16ms/step - loss: 2.2789 - accuracy: 0.4279\n",
      "Epoch 75/100\n",
      "716/716 [==============================] - 10s 15ms/step - loss: 2.2708 - accuracy: 0.4302\n",
      "Epoch 76/100\n",
      "716/716 [==============================] - 12s 16ms/step - loss: 2.2834 - accuracy: 0.4289\n",
      "Epoch 77/100\n",
      "716/716 [==============================] - 11s 15ms/step - loss: 2.3343 - accuracy: 0.4187\n",
      "Epoch 78/100\n",
      "716/716 [==============================] - 10s 14ms/step - loss: 2.3221 - accuracy: 0.4235\n",
      "Epoch 79/100\n",
      "716/716 [==============================] - 10s 14ms/step - loss: 2.2974 - accuracy: 0.4274\n"
     ]
    },
    {
     "name": "stdout",
     "output_type": "stream",
     "text": [
      "Epoch 80/100\n",
      "716/716 [==============================] - 10s 14ms/step - loss: 2.3069 - accuracy: 0.4255\n",
      "Epoch 81/100\n",
      "716/716 [==============================] - 10s 14ms/step - loss: 2.3084 - accuracy: 0.4264\n",
      "Epoch 82/100\n",
      "716/716 [==============================] - 10s 15ms/step - loss: 2.3128 - accuracy: 0.4244\n",
      "Epoch 83/100\n",
      "716/716 [==============================] - 10s 15ms/step - loss: 2.3111 - accuracy: 0.4262\n",
      "Epoch 84/100\n",
      "716/716 [==============================] - 10s 14ms/step - loss: 2.3173 - accuracy: 0.4245\n",
      "Epoch 85/100\n",
      "716/716 [==============================] - 10s 14ms/step - loss: 2.3198 - accuracy: 0.4241\n",
      "Epoch 86/100\n",
      "716/716 [==============================] - 11s 15ms/step - loss: 2.3256 - accuracy: 0.4220\n",
      "Epoch 87/100\n",
      "716/716 [==============================] - 10s 14ms/step - loss: 2.2888 - accuracy: 0.4271\n",
      "Epoch 88/100\n",
      "716/716 [==============================] - 10s 14ms/step - loss: 2.2972 - accuracy: 0.4299\n",
      "Epoch 89/100\n",
      "716/716 [==============================] - 11s 15ms/step - loss: 2.3172 - accuracy: 0.4229\n",
      "Epoch 90/100\n",
      "716/716 [==============================] - 10s 15ms/step - loss: 2.3199 - accuracy: 0.4214\n",
      "Epoch 91/100\n",
      "716/716 [==============================] - 10s 15ms/step - loss: 2.2998 - accuracy: 0.4239\n",
      "Epoch 92/100\n",
      "716/716 [==============================] - 10s 14ms/step - loss: 2.2956 - accuracy: 0.4283\n",
      "Epoch 93/100\n",
      "716/716 [==============================] - 10s 14ms/step - loss: 2.3019 - accuracy: 0.4255\n",
      "Epoch 94/100\n",
      "716/716 [==============================] - 10s 15ms/step - loss: 2.3014 - accuracy: 0.4237\n",
      "Epoch 95/100\n",
      "716/716 [==============================] - 11s 15ms/step - loss: 2.2828 - accuracy: 0.4269\n",
      "Epoch 96/100\n",
      "716/716 [==============================] - 10s 14ms/step - loss: 2.2734 - accuracy: 0.4288\n",
      "Epoch 97/100\n",
      "716/716 [==============================] - 12s 16ms/step - loss: 2.2908 - accuracy: 0.4273\n",
      "Epoch 98/100\n",
      "716/716 [==============================] - 10s 14ms/step - loss: 2.2881 - accuracy: 0.4313\n",
      "Epoch 99/100\n",
      "716/716 [==============================] - 10s 15ms/step - loss: 2.3105 - accuracy: 0.4238\n",
      "Epoch 100/100\n",
      "716/716 [==============================] - 11s 15ms/step - loss: 2.3263 - accuracy: 0.4231\n"
     ]
    }
   ],
   "source": [
    "history1 = model1.fit(xs, ys, epochs=gEpochs)"
   ]
  },
  {
   "cell_type": "code",
   "execution_count": 20,
   "id": "2f924e2b",
   "metadata": {},
   "outputs": [
    {
     "data": {
      "image/png": "[encoded data removed]",
      "text/plain": [
       "<Figure size 432x288 with 1 Axes>"
      ]
     },
     "metadata": {
      "needs_background": "light"
     },
     "output_type": "display_data"
    },
    {
     "data": {
      "image/png": "[encoded data removed]",
      "text/plain": [
       "<Figure size 432x288 with 1 Axes>"
      ]
     },
     "metadata": {
      "needs_background": "light"
     },
     "output_type": "display_data"
    }
   ],
   "source": [
    "plot_loss_acc(history1, False)"
   ]
  },
  {
   "cell_type": "code",
   "execution_count": 27,
   "id": "0ba9638d",
   "metadata": {},
   "outputs": [
    {
     "name": "stdout",
     "output_type": "stream",
     "text": [
      "385\n"
     ]
    },
    {
     "data": {
      "text/plain": [
       "'Come here and  repeated'"
      ]
     },
     "execution_count": 27,
     "metadata": {},
     "output_type": "execute_result"
    }
   ],
   "source": [
    "seed_text = \"Come here and \"\n",
    "generate_text(seed_text, 1, model1, max_sequence_len)"
   ]
  },
  {
   "cell_type": "code",
   "execution_count": 28,
   "id": "b88f6d6c",
   "metadata": {},
   "outputs": [
    {
     "name": "stdout",
     "output_type": "stream",
     "text": [
      "158\n"
     ]
    },
    {
     "data": {
      "text/plain": [
       "'Come here and  look'"
      ]
     },
     "execution_count": 28,
     "metadata": {},
     "output_type": "execute_result"
    }
   ],
   "source": [
    "generate_text(seed_text, 1, model0, max_sequence_len)"
   ]
  },
  {
   "cell_type": "code",
   "execution_count": null,
   "id": "830fbd1c",
   "metadata": {},
   "outputs": [],
   "source": []
  }
 ],
 "metadata": {
  "kernelspec": {
   "display_name": "Python 3 (ipykernel)",
   "language": "python",
   "name": "python3"
  },
  "language_info": {
   "codemirror_mode": {
    "name": "ipython",
    "version": 3
   },
   "file_extension": ".py",
   "mimetype": "text/x-python",
   "name": "python",
   "nbconvert_exporter": "python",
   "pygments_lexer": "ipython3",
   "version": "3.8.13"
  }
 },
 "nbformat": 4,
 "nbformat_minor": 5
}
